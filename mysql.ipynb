{
 "cells": [
  {
   "cell_type": "code",
   "execution_count": 3,
   "id": "b78f8e7b",
   "metadata": {},
   "outputs": [
    {
     "name": "stdout",
     "output_type": "stream",
     "text": [
      "Requirement already satisfied: mysql-connector-python in ./anaconda3/lib/python3.11/site-packages (8.3.0)\n",
      "Note: you may need to restart the kernel to use updated packages.\n"
     ]
    }
   ],
   "source": [
    "pip install mysql-connector-python"
   ]
  },
  {
   "cell_type": "code",
   "execution_count": 5,
   "id": "33551d99",
   "metadata": {},
   "outputs": [],
   "source": [
    "import mysql.connector\n",
    "#importing database\n",
    "database = mysql.connector.connect(\n",
    "host=\"localhost\",\n",
    "user=\"root\",\n",
    "password=\"\",\n",
    "\n",
    "database = \"python_class_8_am\"\n",
    ")\n",
    "db = database.cursor()"
   ]
  },
  {
   "cell_type": "code",
   "execution_count": 6,
   "id": "be6d0425",
   "metadata": {},
   "outputs": [
    {
     "name": "stdout",
     "output_type": "stream",
     "text": [
      "(1, 'Aayush', 100, 98, 99, 92, 90, 479, 96.0, 'A+')\n",
      "(4, 'Hari', 98, 82, 100, 70, 60, 410, 80.0, 'B')\n",
      "(5, 'Shyam', 11, 31, 29, 63, 57, 191, 38.0, 'F')\n",
      "(18, 'Ram', 82, 86, 87, 81, 83, 419, 83.0, 'A+')\n",
      "(21, 'Gita', 76, 79, 67, 86, 86, 394, 78.0, 'B')\n",
      "(23, 'Sita', 56, 47, 86, 96, 43, 328, 65.0, 'C')\n"
     ]
    }
   ],
   "source": [
    "db.execute(\"SELECT * FROM student\")\n",
    "result =db.fetchall()\n",
    "for x in result:\n",
    "    print(x)"
   ]
  },
  {
   "cell_type": "code",
   "execution_count": 10,
   "id": "dba4743a",
   "metadata": {},
   "outputs": [
    {
     "name": "stdout",
     "output_type": "stream",
     "text": [
      "(1, 'Aayush', 479, 'A+')\n",
      "(4, 'Hari', 410, 'B')\n",
      "(5, 'Shyam', 191, 'F')\n",
      "(18, 'Ram', 419, 'A+')\n",
      "(21, 'Gita', 394, 'B')\n",
      "(23, 'Sita', 328, 'C')\n"
     ]
    }
   ],
   "source": [
    "db.execute(\"SELECT sn,name,total,grade FROM student\")\n",
    "result =db.fetchall()\n",
    "for x in result:\n",
    "    print(x)\n"
   ]
  },
  {
   "cell_type": "code",
   "execution_count": 12,
   "id": "257a3a79",
   "metadata": {},
   "outputs": [
    {
     "name": "stdout",
     "output_type": "stream",
     "text": [
      "6 record inserted.\n"
     ]
    }
   ],
   "source": [
    "sql = '''INSERT INTO `student` (`sn`, `name`, `physics`, `chemistry`, `math`, `english`, `nepali`, `total`, `per`, `grade`) VALUES (40, 'Hary', 89, 89, 89, 78, 87, 412, 83.0, 'A'),(10, 'Sameer', 89, 67, 80, 98, 89, 412, 82.5, 'A'),(3, 'Nabin', 82, 84, 85, 98, 89, 430, 88.5, 'A'),(9, 'Rama', 89, 98, 85, 67, 89, 420, 82.5, 'A'),(17, 'Shiva', 49, 57, 25, 98, 89, 400, 70.0, 'A'),(14, 'Gauri', 98, 78, 90, 87, 78, 431, 86.2, 'A');'''\n",
    "db.execute(sql)\n",
    "database.commit()\n",
    "print(db.rowcount, \"record inserted.\")\n"
   ]
  },
  {
   "cell_type": "code",
   "execution_count": null,
   "id": "962429b7",
   "metadata": {},
   "outputs": [],
   "source": []
  }
 ],
 "metadata": {
  "kernelspec": {
   "display_name": "Python 3 (ipykernel)",
   "language": "python",
   "name": "python3"
  },
  "language_info": {
   "codemirror_mode": {
    "name": "ipython",
    "version": 3
   },
   "file_extension": ".py",
   "mimetype": "text/x-python",
   "name": "python",
   "nbconvert_exporter": "python",
   "pygments_lexer": "ipython3",
   "version": "3.11.5"
  }
 },
 "nbformat": 4,
 "nbformat_minor": 5
}
