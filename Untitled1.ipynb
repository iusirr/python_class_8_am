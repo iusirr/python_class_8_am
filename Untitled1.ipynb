{
 "cells": [
  {
   "cell_type": "code",
   "execution_count": 58,
   "id": "dbd026f0-18bc-46fd-b9d7-4ccd4c3fc703",
   "metadata": {
    "tags": []
   },
   "outputs": [
    {
     "name": "stdin",
     "output_type": "stream",
     "text": [
      "how many numbers you want to add up 3\n",
      "Enter a number:  2\n",
      "Enter a number:  3\n",
      "Enter a number:  4\n"
     ]
    },
    {
     "name": "stdout",
     "output_type": "stream",
     "text": [
      "The sum is: 9\n"
     ]
    }
   ],
   "source": [
    "sum = 0\n",
    "\n",
    "n = int(input(\"how many numbers you want to add up\"))\n",
    "for i in range(n):\n",
    "    num = int(input(\"Enter a number: \"))\n",
    "    sum = sum + num\n",
    "    \n",
    "print(\"The sum is:\", sum)"
   ]
  },
  {
   "cell_type": "code",
   "execution_count": 62,
   "id": "0e989ba0-135c-43ae-b5af-f63cdbc667b1",
   "metadata": {
    "tags": []
   },
   "outputs": [
    {
     "name": "stdin",
     "output_type": "stream",
     "text": [
      "how many people you want to include 2\n",
      "Enter name:  as\n",
      "enter number 21\n",
      "Enter name:  df\n",
      "enter number 12312\n"
     ]
    },
    {
     "name": "stdout",
     "output_type": "stream",
     "text": [
      "given name and number are\n",
      "df\n",
      "12312\n"
     ]
    }
   ],
   "source": [
    "sum = str()\n",
    "\n",
    "n = int(input(\"how many people you want to include\"))\n",
    "for i in range(n):\n",
    "    num = str(input(\"Enter name: \"))\n",
    "    nub = int(input(\"enter number\"))\n",
    "    nub = str(nub)\n",
    "    sum = \"given name and number are\" + \"\\n\" + num + \"\\n\" + nub\n",
    "\n",
    "    print(sum)\n",
    " \n",
    "    "
   ]
  },
  {
   "cell_type": "code",
   "execution_count": null,
   "id": "c13342cd-2d40-4571-8053-866245b0dc96",
   "metadata": {},
   "outputs": [],
   "source": []
  },
  {
   "cell_type": "code",
   "execution_count": null,
   "id": "75de8cd6-fc86-41b5-8863-c4ef61f0140d",
   "metadata": {},
   "outputs": [],
   "source": []
  }
 ],
 "metadata": {
  "kernelspec": {
   "display_name": "Python 3 (ipykernel)",
   "language": "python",
   "name": "python3"
  },
  "language_info": {
   "codemirror_mode": {
    "name": "ipython",
    "version": 3
   },
   "file_extension": ".py",
   "mimetype": "text/x-python",
   "name": "python",
   "nbconvert_exporter": "python",
   "pygments_lexer": "ipython3",
   "version": "3.11.5"
  }
 },
 "nbformat": 4,
 "nbformat_minor": 5
}
