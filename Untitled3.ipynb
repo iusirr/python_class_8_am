{
 "cells": [
  {
   "cell_type": "code",
   "execution_count": null,
   "id": "b944e90f",
   "metadata": {},
   "outputs": [],
   "source": [
    "#file \n",
    "#file = open(<\"file_name>\",\"<mode>\")\n",
    "#file.close()\n",
    "\n",
    "#with open(\"<file_name>\",\"<mode>\")as files:\n",
    "#    <operation>\n",
    "\n",
    "#modes\n",
    "#create -> 'x'\n",
    "#read -> 'r'\n",
    "#wrilte ->'w'\n",
    "#append->'a'"
   ]
  },
  {
   "cell_type": "code",
   "execution_count": 14,
   "id": "4044cdd1",
   "metadata": {},
   "outputs": [
    {
     "name": "stdout",
     "output_type": "stream",
     "text": [
      "file already exist\n"
     ]
    }
   ],
   "source": [
    "try:\n",
    "    file = open('data.txt','x')\n",
    "    file.close\n",
    "except:\n",
    "    print(\"file already exist\")"
   ]
  },
  {
   "cell_type": "code",
   "execution_count": 8,
   "id": "bbc1a7ca",
   "metadata": {},
   "outputs": [
    {
     "name": "stdout",
     "output_type": "stream",
     "text": [
      "\n"
     ]
    }
   ],
   "source": [
    "print()"
   ]
  },
  {
   "cell_type": "code",
   "execution_count": 10,
   "id": "fba407c2",
   "metadata": {},
   "outputs": [
    {
     "name": "stdout",
     "output_type": "stream",
     "text": [
      "1. Hello World\n",
      "2. Hello World\n",
      "3. Hello World\n",
      "4. Hello World\n",
      "5. Hello World\n",
      "6. Hello World\n",
      "7. Hello World\n"
     ]
    }
   ],
   "source": [
    "file = open('data.txt','r')\n",
    "d = file.read()\n",
    "print(d)\n",
    "file.close()"
   ]
  },
  {
   "cell_type": "code",
   "execution_count": 12,
   "id": "6487b081",
   "metadata": {},
   "outputs": [
    {
     "name": "stdout",
     "output_type": "stream",
     "text": [
      "<class 'str'>\n"
     ]
    }
   ],
   "source": [
    "print(type(d))"
   ]
  },
  {
   "cell_type": "code",
   "execution_count": 22,
   "id": "03fd9e04",
   "metadata": {},
   "outputs": [
    {
     "name": "stdout",
     "output_type": "stream",
     "text": [
      "no\n"
     ]
    }
   ],
   "source": [
    "try:\n",
    "    d = d.split('\\n')\n",
    "    print(d)\n",
    "except:\n",
    "    print(\"no\")"
   ]
  },
  {
   "cell_type": "code",
   "execution_count": 36,
   "id": "42fd66b7",
   "metadata": {},
   "outputs": [
    {
     "name": "stdout",
     "output_type": "stream",
     "text": [
      "How many product2\n",
      "enter the product name= apple\n",
      "enter the price= 219\n",
      "enter quantity4\n",
      "enter the product name= ball\n",
      "enter the price= 3200\n",
      "enter quantity1\n",
      "apple,219.0,4,876.0\n",
      "ball,3200.0,1,3200.0\n",
      "\n"
     ]
    }
   ],
   "source": [
    "bill = str()\n",
    "n = int(input(\"How many product\"))\n",
    "for i in range(n):\n",
    "    x = str(input(\"enter the product name= \"))\n",
    "    y = float(input(\"enter the price= \" ))\n",
    "    z = int(input(\"enter quantity\"))\n",
    "    total = y * z\n",
    "    bill = bill + f\"{x},{y},{z},{total}\\n\"\n",
    "    \n",
    "print(bill)\n",
    "file = open('bill.csv','w')\n",
    "file.write('Product,Price,Quantity,Total\\n')\n",
    "file.write(bill)\n",
    "file.close()\n"
   ]
  },
  {
   "cell_type": "code",
   "execution_count": 45,
   "id": "048c118d",
   "metadata": {},
   "outputs": [
    {
     "name": "stdout",
     "output_type": "stream",
     "text": [
      "How many product2\n",
      "enter the product name= coke\n",
      "enter the price= 123\n",
      "enter quantity2\n",
      "enter the product name= faanta\n",
      "enter the price= 123\n",
      "enter quantity4\n",
      "coke,123.0,2,246.0\n",
      "faanta,123.0,4,492.0\n",
      "\n"
     ]
    },
    {
     "ename": "NameError",
     "evalue": "name 'bill1' is not defined",
     "output_type": "error",
     "traceback": [
      "\u001b[0;31m---------------------------------------------------------------------------\u001b[0m",
      "\u001b[0;31mNameError\u001b[0m                                 Traceback (most recent call last)",
      "Cell \u001b[0;32mIn[45], line 15\u001b[0m\n\u001b[1;32m     12\u001b[0m file\u001b[38;5;241m.\u001b[39mwrite(\u001b[38;5;124m'\u001b[39m\u001b[38;5;124mProduct,Price,Quantity,Total\u001b[39m\u001b[38;5;130;01m\\n\u001b[39;00m\u001b[38;5;124m'\u001b[39m)\n\u001b[1;32m     14\u001b[0m \u001b[38;5;28;01mimport\u001b[39;00m \u001b[38;5;21;01mpandas\u001b[39;00m \u001b[38;5;28;01mas\u001b[39;00m \u001b[38;5;21;01mpd\u001b[39;00m\n\u001b[0;32m---> 15\u001b[0m df \u001b[38;5;241m=\u001b[39m pd\u001b[38;5;241m.\u001b[39mread_csv(bill1\u001b[38;5;241m.\u001b[39mcsv)\n\u001b[1;32m     16\u001b[0m df\n",
      "\u001b[0;31mNameError\u001b[0m: name 'bill1' is not defined"
     ]
    }
   ],
   "source": [
    "bill = str()\n",
    "n = int(input(\"How many product\"))\n",
    "for i in range(n):\n",
    "    x = str(input(\"enter the product name= \"))\n",
    "    y = float(input(\"enter the price= \" ))\n",
    "    z = int(input(\"enter quantity\"))\n",
    "    total = y * z\n",
    "    bill = bill + f\"{x},{y},{z},{total}\\n\"\n",
    "    \n",
    "print(bill)\n",
    "file = open('bill1.csv','a')\n",
    "file.write('Product,Price,Quantity,Total\\n')\n",
    "\n",
    "import pandas as pd\n",
    "df = pd.read_csv('bill1.csv')\n",
    "df\n"
   ]
  },
  {
   "cell_type": "code",
   "execution_count": 46,
   "id": "68a2fb12",
   "metadata": {},
   "outputs": [
    {
     "data": {
      "text/html": [
       "<div>\n",
       "<style scoped>\n",
       "    .dataframe tbody tr th:only-of-type {\n",
       "        vertical-align: middle;\n",
       "    }\n",
       "\n",
       "    .dataframe tbody tr th {\n",
       "        vertical-align: top;\n",
       "    }\n",
       "\n",
       "    .dataframe thead th {\n",
       "        text-align: right;\n",
       "    }\n",
       "</style>\n",
       "<table border=\"1\" class=\"dataframe\">\n",
       "  <thead>\n",
       "    <tr style=\"text-align: right;\">\n",
       "      <th></th>\n",
       "      <th>Product</th>\n",
       "      <th>Price</th>\n",
       "      <th>Quantity</th>\n",
       "      <th>Total</th>\n",
       "    </tr>\n",
       "  </thead>\n",
       "  <tbody>\n",
       "    <tr>\n",
       "      <th>0</th>\n",
       "      <td>pepsi</td>\n",
       "      <td>290.0</td>\n",
       "      <td>2</td>\n",
       "      <td>580.0</td>\n",
       "    </tr>\n",
       "    <tr>\n",
       "      <th>1</th>\n",
       "      <td>mirindaa</td>\n",
       "      <td>280.0</td>\n",
       "      <td>3</td>\n",
       "      <td>840.0</td>\n",
       "    </tr>\n",
       "  </tbody>\n",
       "</table>\n",
       "</div>"
      ],
      "text/plain": [
       "    Product  Price  Quantity  Total\n",
       "0     pepsi  290.0         2  580.0\n",
       "1  mirindaa  280.0         3  840.0"
      ]
     },
     "execution_count": 46,
     "metadata": {},
     "output_type": "execute_result"
    }
   ],
   "source": [
    "import pandas as pd\n",
    "df = pd.read_csv('bill1.csv')\n",
    "df"
   ]
  },
  {
   "cell_type": "code",
   "execution_count": 38,
   "id": "bcaebcc7",
   "metadata": {},
   "outputs": [
    {
     "name": "stdout",
     "output_type": "stream",
     "text": [
      "How many product2\n",
      "enter the product name= pepsi\n",
      "enter the price= 290\n",
      "enter quantity2\n",
      "enter the product name= mirindaa\n",
      "enter the price= 280\n",
      "enter quantity3\n"
     ]
    },
    {
     "data": {
      "text/plain": [
       "43"
      ]
     },
     "execution_count": 38,
     "metadata": {},
     "output_type": "execute_result"
    }
   ],
   "source": [
    "bill = str()\n",
    "n = int(input(\"How many product\"))\n",
    "for i in range(n):\n",
    "    x = str(input(\"enter the product name= \"))\n",
    "    y = float(input(\"enter the price= \" ))\n",
    "    z = int(input(\"enter quantity\"))\n",
    "    total = y * z\n",
    "    bill = bill + f\"{x},{y},{z},{total}\\n\"\n",
    "    \n",
    "\n",
    "file.write(bill)\n"
   ]
  },
  {
   "cell_type": "code",
   "execution_count": 39,
   "id": "69e7bc51",
   "metadata": {},
   "outputs": [],
   "source": [
    "file.close()"
   ]
  },
  {
   "cell_type": "code",
   "execution_count": 43,
   "id": "d5caae3c",
   "metadata": {},
   "outputs": [
    {
     "ename": "NameError",
     "evalue": "name 'bill1' is not defined",
     "output_type": "error",
     "traceback": [
      "\u001b[0;31m---------------------------------------------------------------------------\u001b[0m",
      "\u001b[0;31mNameError\u001b[0m                                 Traceback (most recent call last)",
      "Cell \u001b[0;32mIn[43], line 2\u001b[0m\n\u001b[1;32m      1\u001b[0m \u001b[38;5;28;01mimport\u001b[39;00m \u001b[38;5;21;01mpandas\u001b[39;00m \u001b[38;5;28;01mas\u001b[39;00m \u001b[38;5;21;01mpd\u001b[39;00m\n\u001b[0;32m----> 2\u001b[0m df \u001b[38;5;241m=\u001b[39m pd\u001b[38;5;241m.\u001b[39mread_csv(bill1\u001b[38;5;241m.\u001b[39mcsv)\n\u001b[1;32m      3\u001b[0m df\n",
      "\u001b[0;31mNameError\u001b[0m: name 'bill1' is not defined"
     ]
    }
   ],
   "source": [
    "import pandas as pd\n",
    "df = pd.read_csv(bill1.csv)\n",
    "df"
   ]
  },
  {
   "cell_type": "code",
   "execution_count": null,
   "id": "b4f72846",
   "metadata": {},
   "outputs": [],
   "source": []
  }
 ],
 "metadata": {
  "kernelspec": {
   "display_name": "Python 3 (ipykernel)",
   "language": "python",
   "name": "python3"
  },
  "language_info": {
   "codemirror_mode": {
    "name": "ipython",
    "version": 3
   },
   "file_extension": ".py",
   "mimetype": "text/x-python",
   "name": "python",
   "nbconvert_exporter": "python",
   "pygments_lexer": "ipython3",
   "version": "3.11.5"
  }
 },
 "nbformat": 4,
 "nbformat_minor": 5
}
