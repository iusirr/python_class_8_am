{
 "cells": [
  {
   "cell_type": "code",
   "execution_count": 3,
   "id": "23b852e9",
   "metadata": {},
   "outputs": [
    {
     "data": {
      "text/plain": [
       "tuple"
      ]
     },
     "execution_count": 3,
     "metadata": {},
     "output_type": "execute_result"
    }
   ],
   "source": [
    "t = (\"apple\",)\n",
    "type(t)"
   ]
  },
  {
   "cell_type": "code",
   "execution_count": 4,
   "id": "c27fdf42",
   "metadata": {},
   "outputs": [
    {
     "name": "stdout",
     "output_type": "stream",
     "text": [
      "enter n= 3\n",
      "enter x= 23\n",
      "enter x= 32\n",
      "enter x= 31\n",
      "(23, 32, 31)\n"
     ]
    }
   ],
   "source": [
    "t = ()\n",
    "n = int(input(\"enter n= \"))\n",
    "for i in range(n):\n",
    "    x = int(input(\"enter x= \"))\n",
    "    t = t + (x,)\n",
    "print(t)\n"
   ]
  },
  {
   "cell_type": "code",
   "execution_count": 5,
   "id": "c45f981c",
   "metadata": {},
   "outputs": [],
   "source": [
    "b = (\"apple\",\"ball\",\"cat\")\n"
   ]
  },
  {
   "cell_type": "code",
   "execution_count": 8,
   "id": "7c91aae5",
   "metadata": {},
   "outputs": [
    {
     "name": "stdout",
     "output_type": "stream",
     "text": [
      "enter n= 2\n",
      "enter name= ram\n",
      "enter age= 32\n",
      "enter address= bktr\n",
      "enter name= shyam\n",
      "enter age= 23\n",
      "enter address= ktm'\n",
      "(('ram', 32, 'bktr'), ('shyam', 23, \"ktm'\"))\n"
     ]
    }
   ],
   "source": [
    "#tupple inside tupple\n",
    "info = ()\n",
    "n = int(input(\"enter n= \"))\n",
    "for i in range(n):\n",
    "    name= input(\"enter name= \")\n",
    "    age= int(input(\"enter age= \"))\n",
    "    add= input(\"enter address= \")\n",
    "    info = info + ((name,age,add),)\n",
    "print(info)"
   ]
  },
  {
   "cell_type": "code",
   "execution_count": 14,
   "id": "7cf6e84a",
   "metadata": {},
   "outputs": [
    {
     "name": "stdout",
     "output_type": "stream",
     "text": [
      "{'Ball', 'cat', 'dog', 'Apple', 'fish'}\n"
     ]
    }
   ],
   "source": [
    "a = {\"Apple\",\"Ball\",\"cat\",\"dog\",\"fish\"}\n",
    "print(a)"
   ]
  },
  {
   "cell_type": "code",
   "execution_count": 15,
   "id": "dee9917f",
   "metadata": {},
   "outputs": [
    {
     "name": "stdout",
     "output_type": "stream",
     "text": [
      "{'Ball', 'cat', 'dog', 'Apple', 'fish'}\n"
     ]
    }
   ],
   "source": [
    "a = {\"Apple\",\"Ball\",\"cat\",\"dog\",\"fish\",\"Apple\",\"fish\",\"dog\"}\n",
    "print(a)"
   ]
  },
  {
   "cell_type": "code",
   "execution_count": 1,
   "id": "7017bc1b",
   "metadata": {},
   "outputs": [
    {
     "name": "stdout",
     "output_type": "stream",
     "text": [
      "{'cat', 'dog', 'Ball', 'fish'}\n"
     ]
    }
   ],
   "source": [
    "a = {'Ball', 'cat', 'dog', 'Apple', 'fish'}\n",
    "a.remove(\"Apple\")\n",
    "print(a)"
   ]
  },
  {
   "cell_type": "code",
   "execution_count": 34,
   "id": "a58dd62b",
   "metadata": {},
   "outputs": [
    {
     "name": "stdout",
     "output_type": "stream",
     "text": [
      "both in a and b=  {'araniko', 'sita', 'ram'}\n",
      "only in a {'laksman', 'hari', 'shyam', 'gita'}\n",
      "only ib b {'janak', 'budha'}\n",
      "all {'laksman', 'sita', 'budha', 'shyam', 'gita', 'araniko', 'janak', 'hari', 'ram'}\n",
      "not in any {'janka', 'balram', 'krishna'}\n"
     ]
    }
   ],
   "source": [
    "#set for math\n",
    "u = {\"ram\",\"shyam\",\"hari\",\"sita\",\"gita\",\"laksman\",\"araniko\",\"budha\",\"janak\",\"araniko\",\"ram\",\"sita\",\"janka\",\"krishna\",\"balram\"}\n",
    "a = {\"ram\",\"shyam\",\"hari\",\"sita\",\"gita\",\"laksman\",\"araniko\"}\n",
    "b = {\"budha\",\"janak\",\"araniko\",\"ram\",\"sita\"}\n",
    "\n",
    "print(\"both in a and b= \",a.intersection(b))\n",
    "print(\"only in a\",a - b)\n",
    "print(\"only ib b\",b-a)\n",
    "print(\"all\",a.union(b))\n",
    "print(\"not in any\", u - a.union(b))"
   ]
  },
  {
   "cell_type": "code",
   "execution_count": null,
   "id": "9de9afac",
   "metadata": {},
   "outputs": [],
   "source": []
  }
 ],
 "metadata": {
  "kernelspec": {
   "display_name": "Python 3 (ipykernel)",
   "language": "python",
   "name": "python3"
  },
  "language_info": {
   "codemirror_mode": {
    "name": "ipython",
    "version": 3
   },
   "file_extension": ".py",
   "mimetype": "text/x-python",
   "name": "python",
   "nbconvert_exporter": "python",
   "pygments_lexer": "ipython3",
   "version": "3.11.5"
  }
 },
 "nbformat": 4,
 "nbformat_minor": 5
}
