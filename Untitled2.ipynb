{
 "cells": [
  {
   "cell_type": "code",
   "execution_count": 2,
   "id": "37fd3e4c",
   "metadata": {},
   "outputs": [
    {
     "name": "stdout",
     "output_type": "stream",
     "text": [
      "Hello world\n",
      "Enter y for more print y\n",
      "Hello world\n",
      "Enter y for more print y\n",
      "Hello world\n",
      "Enter y for more print r\n",
      "End\n"
     ]
    }
   ],
   "source": [
    "def hello():\n",
    "    print(\"Hello world\")\n",
    "    x = input(\"Enter y for more print \")\n",
    "    if x == 'y':\n",
    "        hello()\n",
    "    else:\n",
    "        print(\"End\")\n",
    "        \n",
    "hello()"
   ]
  },
  {
   "cell_type": "code",
   "execution_count": 1,
   "id": "7e04d8f2",
   "metadata": {},
   "outputs": [
    {
     "name": "stdout",
     "output_type": "stream",
     "text": [
      "25\n"
     ]
    }
   ],
   "source": [
    "x = lambda a:a**2\n",
    "print(x(5))"
   ]
  },
  {
   "cell_type": "code",
   "execution_count": 7,
   "id": "d7409232",
   "metadata": {},
   "outputs": [
    {
     "name": "stdout",
     "output_type": "stream",
     "text": [
      "enter length= 3\n",
      "enter breath= 3\n",
      "area is \n",
      "9\n"
     ]
    }
   ],
   "source": [
    "x = lambda l,b:l*b\n",
    "l = int(input(\"enter length= \"))\n",
    "b = int(input(\"enter breath= \"))\n",
    "print(\"area is \")\n",
    "print(x(l,b))"
   ]
  },
  {
   "cell_type": "code",
   "execution_count": 8,
   "id": "e56da7c5",
   "metadata": {},
   "outputs": [],
   "source": [
    "#filter()\n",
    "#map()"
   ]
  },
  {
   "cell_type": "code",
   "execution_count": 12,
   "id": "db0fcffd",
   "metadata": {},
   "outputs": [],
   "source": [
    "#filter()\n",
    "#list(filter(lambda <argument>:<condition>,list))"
   ]
  },
  {
   "cell_type": "code",
   "execution_count": 14,
   "id": "30577789",
   "metadata": {},
   "outputs": [
    {
     "name": "stdout",
     "output_type": "stream",
     "text": [
      "[2, 4, 6, 8, 10]\n"
     ]
    }
   ],
   "source": [
    "l = [1,2,3,4,5,6,7,8,9,10]\n",
    "x = list(filter(lambda a : a%2==0, l))\n",
    "print(x)"
   ]
  },
  {
   "cell_type": "code",
   "execution_count": 20,
   "id": "cebde2c7",
   "metadata": {},
   "outputs": [
    {
     "name": "stdout",
     "output_type": "stream",
     "text": [
      "['Apple', 'Ball', 'Cat']\n"
     ]
    }
   ],
   "source": [
    "l = [\"Apple\",\"Ball\",\"Cat\",\"dog\",\"fish\"]\n",
    "x = list(filter(lambda a:a[0].isupper(), l))\n",
    "print(x)"
   ]
  },
  {
   "cell_type": "code",
   "execution_count": 17,
   "id": "ba083213",
   "metadata": {},
   "outputs": [
    {
     "name": "stdout",
     "output_type": "stream",
     "text": [
      "True\n"
     ]
    }
   ],
   "source": [
    "a = \"APPLE\"\n",
    "print(a.isupper())"
   ]
  },
  {
   "cell_type": "code",
   "execution_count": 23,
   "id": "b1c7198c",
   "metadata": {},
   "outputs": [
    {
     "name": "stdout",
     "output_type": "stream",
     "text": [
      "[150750, 525004, 93798, 1146484, 1475631]\n"
     ]
    }
   ],
   "source": [
    "l = [100500,350003,62532,764323,983754]\n",
    "x = list(map(lambda a:round(a*1.5),l))\n",
    "print(x)"
   ]
  },
  {
   "cell_type": "code",
   "execution_count": null,
   "id": "edb1a554",
   "metadata": {},
   "outputs": [],
   "source": [
    "# math function\n"
   ]
  },
  {
   "cell_type": "code",
   "execution_count": 26,
   "id": "443f910b",
   "metadata": {},
   "outputs": [
    {
     "name": "stdout",
     "output_type": "stream",
     "text": [
      "3.141592653589793\n",
      "2.718281828459045\n"
     ]
    }
   ],
   "source": [
    "import math as m\n",
    "print(m.pi)\n",
    "print(m.e)"
   ]
  },
  {
   "cell_type": "code",
   "execution_count": null,
   "id": "e764e4e0",
   "metadata": {},
   "outputs": [],
   "source": []
  }
 ],
 "metadata": {
  "kernelspec": {
   "display_name": "Python 3 (ipykernel)",
   "language": "python",
   "name": "python3"
  },
  "language_info": {
   "codemirror_mode": {
    "name": "ipython",
    "version": 3
   },
   "file_extension": ".py",
   "mimetype": "text/x-python",
   "name": "python",
   "nbconvert_exporter": "python",
   "pygments_lexer": "ipython3",
   "version": "3.11.5"
  }
 },
 "nbformat": 4,
 "nbformat_minor": 5
}
