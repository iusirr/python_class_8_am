{
 "cells": [
  {
   "cell_type": "code",
   "execution_count": 1,
   "id": "f31f5310",
   "metadata": {},
   "outputs": [
    {
     "ename": "SyntaxError",
     "evalue": "'{' was never closed (2624340429.py, line 1)",
     "output_type": "error",
     "traceback": [
      "\u001b[0;36m  Cell \u001b[0;32mIn[1], line 1\u001b[0;36m\u001b[0m\n\u001b[0;31m    a = {'name':['ram', 'shyam', 'hari'],\u001b[0m\n\u001b[0m        ^\u001b[0m\n\u001b[0;31mSyntaxError\u001b[0m\u001b[0;31m:\u001b[0m '{' was never closed\n"
     ]
    }
   ],
   "source": [
    "a = {'name':['ram', 'shyam', 'hari'],\n",
    "     'age':[43, 45, 67],\n",
    "     'address':['ktm','bkt','lalitpur']\n",
    "a"
   ]
  },
  {
   "cell_type": "code",
   "execution_count": 4,
   "id": "dcd56996",
   "metadata": {},
   "outputs": [
    {
     "name": "stdout",
     "output_type": "stream",
     "text": [
      "enter n= 2\n",
      "enter name= ram\n",
      "enter age= 32\n",
      "enter address= ktm\n",
      "enter name= shyam\n",
      "enter age= 43\n",
      "enter address= bkt\n",
      "{'name': ['ram', 'shyam'], 'age': [32, 43], 'address': ['ktm', 'bkt']}\n"
     ]
    }
   ],
   "source": [
    "a = {'name':[], 'age':[], 'address':[]}\n",
    "n = int(input(\"enter n= \"))\n",
    "for i in range(n):\n",
    "        name= input(\"enter name= \")\n",
    "        age= int(input(\"enter age= \"))\n",
    "        address= input(\"enter address= \")\n",
    "        a['name'].append(name)\n",
    "        a['age'].append(age)\n",
    "        a['address'].append(address)\n",
    "        \n",
    "print(a)"
   ]
  },
  {
   "cell_type": "code",
   "execution_count": 5,
   "id": "7c60fefb",
   "metadata": {},
   "outputs": [
    {
     "name": "stdout",
     "output_type": "stream",
     "text": [
      "{'name': ['ram', 'shyam'], 'address': ['ktm', 'bkt']}\n"
     ]
    }
   ],
   "source": [
    "b = a.pop('age')\n",
    "print(a)"
   ]
  },
  {
   "cell_type": "code",
   "execution_count": 7,
   "id": "4d126a9d",
   "metadata": {},
   "outputs": [
    {
     "data": {
      "text/plain": [
       "{'name': ['ram', 'shyam'], 'address': ['ktm', 'bkt']}"
      ]
     },
     "execution_count": 7,
     "metadata": {},
     "output_type": "execute_result"
    }
   ],
   "source": [
    "a"
   ]
  },
  {
   "cell_type": "code",
   "execution_count": 9,
   "id": "cda5e920",
   "metadata": {},
   "outputs": [
    {
     "name": "stdout",
     "output_type": "stream",
     "text": [
      "Name =  ram\n",
      "age =  32\n",
      "Address =  ktm\n"
     ]
    }
   ],
   "source": [
    "a = {'name': ['ram', 'shyam'], 'age': [32, 43], 'address': ['ktm', 'bkt']}\n",
    "print(\"Name = \",a['name'][0])\n",
    "print(\"age = \",a['age'][0])\n",
    "print(\"Address = \",a['address'][0])"
   ]
  },
  {
   "cell_type": "code",
   "execution_count": 12,
   "id": "7eeab211",
   "metadata": {},
   "outputs": [
    {
     "name": "stdout",
     "output_type": "stream",
     "text": [
      "His name is  ram .He is a  32  years old man who lives in  ktm .\n"
     ]
    }
   ],
   "source": [
    "a = {'name': ['ram', 'shyam'], 'age': [32, 43], 'address': ['ktm', 'bkt']}\n",
    "print(\"His name is \",a['name'][0],\".He is a \",a['age'][0],\" years old man who lives in \",a['address'][0],\".\")"
   ]
  },
  {
   "cell_type": "code",
   "execution_count": null,
   "id": "f2e79bd7",
   "metadata": {},
   "outputs": [],
   "source": [
    "a = {'name':[], 'age':[], 'address':[]}\n",
    "n = int(input(\"enter n= \"))\n",
    "for i in range(n):\n",
    "    index = n + 1:\n",
    "        name= input(\"enter name= \")\n",
    "        age= int(input(\"enter age= \"))\n",
    "        address= input(\"enter address= \")\n",
    "print(\"His name is \",a['name'][index],\".He is a \",a['age'][index],\" years old man who lives in \",a['address'][],\".\")"
   ]
  },
  {
   "cell_type": "code",
   "execution_count": null,
   "id": "69f0715c",
   "metadata": {},
   "outputs": [],
   "source": [
    "a = {'name': ['ram', 'shyam'], 'age': [32, 43], 'address': ['ktm', 'bkt']}\n",
    "k = list(a.keys())\n",
    "print(k)\n",
    "index = int(input(\"enter index= \"))\n",
    "for i in a:\n",
    "    del a[k][index]\n",
    "    "
   ]
  }
 ],
 "metadata": {
  "kernelspec": {
   "display_name": "Python 3 (ipykernel)",
   "language": "python",
   "name": "python3"
  },
  "language_info": {
   "codemirror_mode": {
    "name": "ipython",
    "version": 3
   },
   "file_extension": ".py",
   "mimetype": "text/x-python",
   "name": "python",
   "nbconvert_exporter": "python",
   "pygments_lexer": "ipython3",
   "version": "3.11.5"
  }
 },
 "nbformat": 4,
 "nbformat_minor": 5
}
