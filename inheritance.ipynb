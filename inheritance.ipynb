{
 "cells": [
  {
   "cell_type": "code",
   "execution_count": 1,
   "id": "53e0acc2",
   "metadata": {},
   "outputs": [],
   "source": [
    "#method\n",
    "\n",
    "#class<class_name2>(<class_name1>):\n",
    "#    <methods>\n",
    "    \n",
    "    \n",
    "#obj = <class_name2>()\n",
    "\n",
    "     "
   ]
  },
  {
   "cell_type": "code",
   "execution_count": 2,
   "id": "f543edd1",
   "metadata": {},
   "outputs": [],
   "source": [
    "class A:           #parent class\n",
    "    pass\n",
    "\n",
    "class B:           #child class\n",
    "    pass\n",
    "\n",
    "obj = B()"
   ]
  },
  {
   "cell_type": "code",
   "execution_count": 9,
   "id": "06fc9443",
   "metadata": {},
   "outputs": [
    {
     "name": "stdout",
     "output_type": "stream",
     "text": [
      "enter name= ram\n",
      "enter age= 23\n",
      "enter address= tinkune\n"
     ]
    },
    {
     "ename": "TypeError",
     "evalue": "Data.__init__() takes 1 positional argument but 4 were given",
     "output_type": "error",
     "traceback": [
      "\u001b[0;31m---------------------------------------------------------------------------\u001b[0m",
      "\u001b[0;31mTypeError\u001b[0m                                 Traceback (most recent call last)",
      "Cell \u001b[0;32mIn[9], line 19\u001b[0m\n\u001b[1;32m     17\u001b[0m age\u001b[38;5;241m=\u001b[39m \u001b[38;5;28mint\u001b[39m(\u001b[38;5;28minput\u001b[39m(\u001b[38;5;124m\"\u001b[39m\u001b[38;5;124menter age= \u001b[39m\u001b[38;5;124m\"\u001b[39m))\n\u001b[1;32m     18\u001b[0m add\u001b[38;5;241m=\u001b[39m \u001b[38;5;28minput\u001b[39m(\u001b[38;5;124m\"\u001b[39m\u001b[38;5;124menter address= \u001b[39m\u001b[38;5;124m\"\u001b[39m)      \n\u001b[0;32m---> 19\u001b[0m obj \u001b[38;5;241m=\u001b[39m Info(name,age,add)\n\u001b[1;32m     20\u001b[0m obj\u001b[38;5;241m.\u001b[39minfo()\n\u001b[1;32m     21\u001b[0m obj\u001b[38;5;241m.\u001b[39mdata()\n",
      "\u001b[0;31mTypeError\u001b[0m: Data.__init__() takes 1 positional argument but 4 were given"
     ]
    }
   ],
   "source": [
    "class Data:\n",
    "    def __init__(s,name,age,add):\n",
    "        s.name= name\n",
    "        s.age = age\n",
    "        s.add = add\n",
    "        \n",
    "        \n",
    "    def data(s):\n",
    "        print(s.name,s.age,s.add)\n",
    "        \n",
    "class Info(Data):\n",
    "    def info(s):\n",
    "        \n",
    "        print(f\"Hello world I am {s.name}. I am {s.age} years old. I am from {s.add}.\" )\n",
    "        \n",
    "name= input(\"enter name= \")\n",
    "age= int(input(\"enter age= \"))\n",
    "add= input(\"enter address= \")      \n",
    "obj = Info(name,age,add)\n",
    "obj.info()\n",
    "obj.data()"
   ]
  },
  {
   "cell_type": "code",
   "execution_count": 8,
   "id": "43b1719b",
   "metadata": {},
   "outputs": [
    {
     "name": "stdout",
     "output_type": "stream",
     "text": [
      "enter name= ram\n",
      "enter age= 23\n",
      "enter address= ktm\n",
      "Hello world I am ram. I am 23 years old. I am from ktm.\n",
      "ram 23 ktm\n"
     ]
    }
   ],
   "source": [
    "class Data:\n",
    "    def __init__(s,name,age,add):\n",
    "        s.name= name\n",
    "        s.age = age\n",
    "        s.add = add\n",
    "        \n",
    "        \n",
    "    def data(s):\n",
    "        print(s.name,s.age,s.add)\n",
    "        \n",
    "class Info(Data):\n",
    "    def info(s):\n",
    "        \n",
    "        print(f\"Hello world I am {s.name}. I am {s.age} years old. I am from {s.add}.\" )\n",
    "        \n",
    "name= input(\"enter name= \")\n",
    "age= int(input(\"enter age= \"))\n",
    "add= input(\"enter address= \")      \n",
    "obj = Info(name,age,add)\n",
    "obj.info()\n",
    "obj.data()"
   ]
  },
  {
   "cell_type": "code",
   "execution_count": 16,
   "id": "421716bb",
   "metadata": {},
   "outputs": [
    {
     "name": "stdout",
     "output_type": "stream",
     "text": [
      "enter name= ram\n",
      "enter age= 23\n",
      "enter address= dfs\n"
     ]
    },
    {
     "ename": "AttributeError",
     "evalue": "type object 'Data' has no attribute '_init_'",
     "output_type": "error",
     "traceback": [
      "\u001b[0;31m---------------------------------------------------------------------------\u001b[0m",
      "\u001b[0;31mAttributeError\u001b[0m                            Traceback (most recent call last)",
      "Cell \u001b[0;32mIn[16], line 21\u001b[0m\n\u001b[1;32m     19\u001b[0m age\u001b[38;5;241m=\u001b[39m \u001b[38;5;28mint\u001b[39m(\u001b[38;5;28minput\u001b[39m(\u001b[38;5;124m\"\u001b[39m\u001b[38;5;124menter age= \u001b[39m\u001b[38;5;124m\"\u001b[39m))\n\u001b[1;32m     20\u001b[0m add\u001b[38;5;241m=\u001b[39m \u001b[38;5;28minput\u001b[39m(\u001b[38;5;124m\"\u001b[39m\u001b[38;5;124menter address= \u001b[39m\u001b[38;5;124m\"\u001b[39m)      \n\u001b[0;32m---> 21\u001b[0m obj \u001b[38;5;241m=\u001b[39m Info(name,age,add)\n\u001b[1;32m     22\u001b[0m obj\u001b[38;5;241m.\u001b[39minfo()\n\u001b[1;32m     23\u001b[0m obj\u001b[38;5;241m.\u001b[39mdata()\n",
      "Cell \u001b[0;32mIn[16], line 13\u001b[0m, in \u001b[0;36mInfo.__init__\u001b[0;34m(s, name, age, add)\u001b[0m\n\u001b[1;32m     11\u001b[0m s\u001b[38;5;241m.\u001b[39mname\u001b[38;5;241m=\u001b[39m name\n\u001b[1;32m     12\u001b[0m s\u001b[38;5;241m.\u001b[39mage \u001b[38;5;241m=\u001b[39m age\n\u001b[0;32m---> 13\u001b[0m Data\u001b[38;5;241m.\u001b[39m_init_(s,add)\n",
      "\u001b[0;31mAttributeError\u001b[0m: type object 'Data' has no attribute '_init_'"
     ]
    }
   ],
   "source": [
    "class Data:\n",
    "    def __init__(s,add):\n",
    "        s.add= add\n",
    "        \n",
    "    def data(s):\n",
    "        print(s.add)\n",
    "\n",
    "        \n",
    "class Info(Data):\n",
    "    def __init__(s,name,age,add):\n",
    "        s.name= name\n",
    "        s.age = age\n",
    "        Data._init_(s,add)\n",
    "\n",
    "def info(s):\n",
    "    print(f\"Hello world I am {s.name}. I am {s.age} years old. I am from {s.add}.\" )\n",
    "        \n",
    "name= input(\"enter name= \")\n",
    "age= int(input(\"enter age= \"))\n",
    "add= input(\"enter address= \")      \n",
    "obj = Info(name,age,add)\n",
    "obj.info()\n",
    "obj.data()"
   ]
  },
  {
   "cell_type": "code",
   "execution_count": 15,
   "id": "0c2dd8ba",
   "metadata": {},
   "outputs": [],
   "source": [
    "#multilevel\n",
    "\n",
    "class A:\n",
    "    pass\n",
    "\n",
    "class B(A):\n",
    "    pass\n",
    "\n",
    "class C(B):\n",
    "    pass\n",
    "\n",
    "obj = C()"
   ]
  },
  {
   "cell_type": "code",
   "execution_count": 13,
   "id": "67a5bfc8",
   "metadata": {},
   "outputs": [
    {
     "ename": "SyntaxError",
     "evalue": "invalid syntax (3305225294.py, line 3)",
     "output_type": "error",
     "traceback": [
      "\u001b[0;36m  Cell \u001b[0;32mIn[13], line 3\u001b[0;36m\u001b[0m\n\u001b[0;31m    class :\u001b[0m\n\u001b[0m          ^\u001b[0m\n\u001b[0;31mSyntaxError\u001b[0m\u001b[0;31m:\u001b[0m invalid syntax\n"
     ]
    }
   ],
   "source": [
    "#multiple\n",
    "\n",
    "class A:\n",
    "    pass\n",
    "\n",
    "class B(A):\n",
    "    pass\n",
    "\n",
    "class "
   ]
  },
  {
   "cell_type": "code",
   "execution_count": 21,
   "id": "ab84a961",
   "metadata": {},
   "outputs": [
    {
     "name": "stdout",
     "output_type": "stream",
     "text": [
      "enter name= ram\n",
      "enter age= 23\n",
      "enter address= tkm\n",
      "Hello world I am ram. I am 23 years old. I am from tkm.\n",
      "tkm\n",
      "23\n"
     ]
    }
   ],
   "source": [
    "class Age:\n",
    "    def __init__(s,age):\n",
    "        s.age = age\n",
    "    def my_age(s):\n",
    "        print(s.age)\n",
    "    \n",
    "\n",
    "class Data(Age):\n",
    "    def __init__(s,age,add):\n",
    "        s.add= add\n",
    "        Age.__init__(s,age)\n",
    "        \n",
    "        \n",
    "    def data(s):\n",
    "        print(s.add)\n",
    "\n",
    "        \n",
    "class Info(Data):\n",
    "    def __init__(s,name,age,add):\n",
    "        s.name = name\n",
    "        Data.__init__(s,age,add)\n",
    "\n",
    "    def info(s):\n",
    "        print(f\"Hello world I am {s.name}. I am {s.age} years old. I am from {s.add}.\" )\n",
    "        \n",
    "name= input(\"enter name= \")\n",
    "age= int(input(\"enter age= \"))\n",
    "add= input(\"enter address= \")      \n",
    "\n",
    "\n",
    "obj = Info(name,age,add)\n",
    "obj.info()\n",
    "obj.data()\n",
    "obj.my_age()"
   ]
  },
  {
   "cell_type": "code",
   "execution_count": null,
   "id": "a0f4959d",
   "metadata": {},
   "outputs": [],
   "source": []
  },
  {
   "cell_type": "code",
   "execution_count": 66,
   "id": "2040f039",
   "metadata": {},
   "outputs": [
    {
     "ename": "AttributeError",
     "evalue": "'Info' object has no attribute '__name'",
     "output_type": "error",
     "traceback": [
      "\u001b[0;31m---------------------------------------------------------------------------\u001b[0m",
      "\u001b[0;31mAttributeError\u001b[0m                            Traceback (most recent call last)",
      "Cell \u001b[0;32mIn[66], line 8\u001b[0m\n\u001b[1;32m      5\u001b[0m         s\u001b[38;5;241m.\u001b[39m__add \u001b[38;5;241m=\u001b[39m \u001b[38;5;124m\"\u001b[39m\u001b[38;5;124mkathmandu\u001b[39m\u001b[38;5;124m\"\u001b[39m\n\u001b[1;32m      7\u001b[0m obj \u001b[38;5;241m=\u001b[39m Info()\n\u001b[0;32m----> 8\u001b[0m \u001b[38;5;28mprint\u001b[39m(obj\u001b[38;5;241m.\u001b[39m__name)\n\u001b[1;32m      9\u001b[0m \u001b[38;5;28mprint\u001b[39m(obj\u001b[38;5;241m.\u001b[39m__age)\n\u001b[1;32m     10\u001b[0m \u001b[38;5;28mprint\u001b[39m(obj\u001b[38;5;241m.\u001b[39m__add)\n",
      "\u001b[0;31mAttributeError\u001b[0m: 'Info' object has no attribute '__name'"
     ]
    }
   ],
   "source": [
    "class Info:\n",
    "    def __init__(s):\n",
    "        s.__name = \"Ram\"\n",
    "        s.__age = 23\n",
    "        s.__add = \"kathmandu\"\n",
    "        \n",
    "obj = Info()\n",
    "print(obj.__name)\n",
    "print(obj.__age)\n",
    "print(obj.__add)"
   ]
  },
  {
   "cell_type": "code",
   "execution_count": 19,
   "id": "9540b7a3",
   "metadata": {},
   "outputs": [
    {
     "name": "stdout",
     "output_type": "stream",
     "text": [
      "Hello world I am Ram. I am 23 years old.\n",
      "Hello world I am Ram. I am 23 years old. I am from kathmandu.\n",
      "Ram\n"
     ]
    }
   ],
   "source": [
    "class Data:\n",
    "    def __init__(self):\n",
    "        self.name = \"Ram\"\n",
    "        self._age = 23\n",
    "        self.__add = \"kathmandu\"\n",
    "        \n",
    "    def data(self):\n",
    "        print(f\"Hello world I am {self.name}. I am {self._age} years old. I am from {self.__add}.\" )\n",
    "        \n",
    "class Info(Data):\n",
    "    def info(self):\n",
    "        print(f\"Hello world I am {self.name}. I am {self._age} years old.\")\n",
    "        \n",
    "obj = Info()\n",
    "obj.info()\n",
    "obj.data()\n",
    "print(obj.name)"
   ]
  },
  {
   "cell_type": "code",
   "execution_count": 17,
   "id": "7ed9a26c",
   "metadata": {},
   "outputs": [
    {
     "name": "stdout",
     "output_type": "stream",
     "text": [
      "Hello world I am Ram. I am from kathmandu. I am 23 years old.\n",
      "Hello world I am Ram. I am 23 years old. I am from kathmandu.\n",
      "Ram\n"
     ]
    }
   ],
   "source": [
    "class Data:\n",
    "    def __init__(self):\n",
    "        self.name = \"Ram\"\n",
    "        self._age = 23\n",
    "        self.__add = \"kathmandu\"\n",
    "        \n",
    "    def my_add(self):\n",
    "        return self.__add\n",
    "        \n",
    "    def data(self):\n",
    "        print(f\"Hello world I am {self.name}. I am {self._age} years old. I am from {self.__add}.\" )\n",
    "        \n",
    "class Info(Data):\n",
    "    def info(self):\n",
    "        print(f\"Hello world I am {self.name}. I am from {super().my_add()}. I am {self._age} years old.\")\n",
    "        \n",
    "obj = Info()\n",
    "obj.info()\n",
    "obj.data()\n",
    "print(obj.name)"
   ]
  },
  {
   "cell_type": "code",
   "execution_count": 31,
   "id": "52a911dc",
   "metadata": {},
   "outputs": [
    {
     "name": "stdout",
     "output_type": "stream",
     "text": [
      "COMPARISON BETWEEN PENGUIN AND PARROT\n",
      "\n",
      "Who can fly and who can't ?\n",
      "parot can fly\n",
      "Penguin can't fly\n",
      "\n",
      "Who can swim and who can't ?\n",
      "parrot can't swim\n",
      "Penguin can swim\n"
     ]
    }
   ],
   "source": [
    "print(\"COMPARISON BETWEEN PENGUIN AND PARROT\\n\")\n",
    "class Parrot:\n",
    "    def fly(s):\n",
    "        print(\"parot can fly\")\n",
    "    def swim(s):\n",
    "        print(\"parrot can't swim\")\n",
    "        \n",
    "class Penguin:\n",
    "    def fly(s):\n",
    "        print(\"Penguin can't fly\")\n",
    "    def swim(s):\n",
    "        print(\"Penguin can swim\")\n",
    "        \n",
    "#\"common interface\"\n",
    "def flying_test(bird):\n",
    "    bird.fly()\n",
    "    \n",
    "def swimming_test(bird):\n",
    "    bird.swim()\n",
    "\n",
    "print(\"Who can fly and who can't ?\")   \n",
    "#instantiate object\n",
    "blu = Parrot()\n",
    "peggy = Penguin()\n",
    "#paassing the object\n",
    "flying_test(blu)\n",
    "flying_test(peggy)\n",
    "print(\"\\nWho can swim and who can't ?\")\n",
    "swimming_test(blu)\n",
    "swimming_test(peggy)"
   ]
  },
  {
   "cell_type": "code",
   "execution_count": 38,
   "id": "1c4a5722",
   "metadata": {},
   "outputs": [
    {
     "name": "stdout",
     "output_type": "stream",
     "text": [
      "Ram\n"
     ]
    }
   ],
   "source": [
    "#str method\n",
    "class Info:\n",
    "    def __init__(s):\n",
    "        s.name = \"Ram\"\n",
    "        s.age = 23\n",
    "        s.add = \"kathmandu\"\n",
    "        \n",
    "    def __str__(s):\n",
    "        return s.name\n",
    "        \n",
    "        \n",
    "obj = Info()\n",
    "print(obj)\n",
    "        \n",
    "     "
   ]
  },
  {
   "cell_type": "code",
   "execution_count": 45,
   "id": "1b2cd5d9",
   "metadata": {},
   "outputs": [
    {
     "name": "stdout",
     "output_type": "stream",
     "text": [
      "Ram\n",
      "Ram\n",
      "Ram\n"
     ]
    }
   ],
   "source": [
    "class Info:\n",
    "    def __init__(s):\n",
    "        s.name = \"Ram\"\n",
    "        s.age = 23\n",
    "        s.add = \"kathmandu\"\n",
    "        \n",
    "    def __str__(s):\n",
    "        return s.name\n",
    "        \n",
    "    \n",
    "        \n",
    "        \n",
    "obj = Info()\n",
    "print(obj)\n",
    "print(str(obj))\n",
    "print(obj.__str__())"
   ]
  },
  {
   "cell_type": "code",
   "execution_count": 61,
   "id": "39167a08",
   "metadata": {},
   "outputs": [
    {
     "name": "stdout",
     "output_type": "stream",
     "text": [
      "this is init method 3\n",
      "this is init method 7\n",
      "this is init method 5\n",
      "this is add method 10\n",
      "this is init method 10\n",
      "this is add method 15\n",
      "this is init method 15\n",
      "(15)\n"
     ]
    }
   ],
   "source": [
    "#operator overloading\n",
    "class Point:\n",
    "    def __init__(s, x=0):\n",
    "        s.x = x\n",
    "        print(\"this is init method\",s.x)\n",
    "        \n",
    "        \n",
    "    def __str__(s):\n",
    "        return \"({0})\".format(s.x)\n",
    "        print(\"this is str method\",s.x)\n",
    "    \n",
    "    def __add__(s,other):\n",
    "        x = s.x + other.x\n",
    "        print(\"this is add method\",x)\n",
    "        return Point(x)\n",
    "    \n",
    "p1 = Point(3)\n",
    "p2 = Point(7)\n",
    "p3 = Point(5)\n",
    "print(p1+p2+p3)"
   ]
  },
  {
   "cell_type": "markdown",
   "id": "57925b7f",
   "metadata": {},
   "source": [
    "n = int(input(\"enter n= \"))\n",
    "for i in range (n):\n",
    "    \n",
    "    a = int(input(\"enter any number= \"))\n",
    "    b = int(input(\"enter any number= \"))\n",
    "print(\"the sum is\",a+b)"
   ]
  },
  {
   "cell_type": "code",
   "execution_count": null,
   "id": "a3da1ebc",
   "metadata": {},
   "outputs": [],
   "source": []
  }
 ],
 "metadata": {
  "kernelspec": {
   "display_name": "Python 3 (ipykernel)",
   "language": "python",
   "name": "python3"
  },
  "language_info": {
   "codemirror_mode": {
    "name": "ipython",
    "version": 3
   },
   "file_extension": ".py",
   "mimetype": "text/x-python",
   "name": "python",
   "nbconvert_exporter": "python",
   "pygments_lexer": "ipython3",
   "version": "3.11.5"
  }
 },
 "nbformat": 4,
 "nbformat_minor": 5
}
