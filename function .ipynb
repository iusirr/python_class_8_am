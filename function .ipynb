{
 "cells": [
  {
   "cell_type": "code",
   "execution_count": null,
   "id": "a8c80bcd",
   "metadata": {},
   "outputs": [],
   "source": [
    "#function"
   ]
  },
  {
   "cell_type": "code",
   "execution_count": null,
   "id": "b7b50df5",
   "metadata": {},
   "outputs": [],
   "source": [
    "#pre defined function\n",
    "#print() int() float() str() list() tuple() dict() set()"
   ]
  },
  {
   "cell_type": "code",
   "execution_count": null,
   "id": "c006fa56",
   "metadata": {},
   "outputs": [],
   "source": [
    "#user define function\n",
    "#def <function_name>():\n",
    "#    <operation>\n",
    "    \n",
    "#<function_name>()\n"
   ]
  },
  {
   "cell_type": "code",
   "execution_count": 1,
   "id": "9f8218c9",
   "metadata": {},
   "outputs": [
    {
     "name": "stdout",
     "output_type": "stream",
     "text": [
      "hello world\n"
     ]
    }
   ],
   "source": [
    "def hello():           #function define\n",
    "    print(\"hello world\")\n",
    "    \n",
    "hello()               #function call"
   ]
  },
  {
   "cell_type": "code",
   "execution_count": 7,
   "id": "4a097a62",
   "metadata": {},
   "outputs": [
    {
     "name": "stdout",
     "output_type": "stream",
     "text": [
      "enter the value of l= 2\n",
      "enter the value of b= 3\n",
      "6\n"
     ]
    }
   ],
   "source": [
    "def cal():\n",
    "    l = int(input(\"enter the value of l= \"))   #local variable\n",
    "    b = int(input(\"enter the value of b= \"))   #local variable\n",
    "    a = l*b\n",
    "    print(a)\n",
    "    \n",
    "    \n",
    "cal()"
   ]
  },
  {
   "cell_type": "code",
   "execution_count": 5,
   "id": "0a9b6d36",
   "metadata": {},
   "outputs": [
    {
     "name": "stdout",
     "output_type": "stream",
     "text": [
      "enter the value of l= 3\n",
      "enter the value of b= 2\n",
      "6\n"
     ]
    }
   ],
   "source": [
    "l = int(input(\"enter the value of l= \"))    #golobal variable\n",
    "b = int(input(\"enter the value of b= \"))    #global variable\n",
    "\n",
    "def cal():\n",
    "    a = l*b\n",
    "    print(a)\n",
    "    \n",
    "    \n",
    "cal()"
   ]
  },
  {
   "cell_type": "code",
   "execution_count": 8,
   "id": "48b57f0f",
   "metadata": {},
   "outputs": [
    {
     "name": "stdout",
     "output_type": "stream",
     "text": [
      "enter the value of l= 3\n",
      "enter the value of b= 2\n",
      "6\n"
     ]
    }
   ],
   "source": [
    "l = int(input(\"enter the value of l= \"))    #golobal variable\n",
    "b = int(input(\"enter the value of b= \"))    #global variable\n",
    "a = l*b\n",
    "\n",
    "def cal():\n",
    "    print(a)\n",
    "    \n",
    "    \n",
    "cal()"
   ]
  },
  {
   "cell_type": "code",
   "execution_count": 10,
   "id": "05887524",
   "metadata": {},
   "outputs": [
    {
     "name": "stdout",
     "output_type": "stream",
     "text": [
      "enter the value of l= 2\n",
      "enter the value of b= 3\n",
      "6\n"
     ]
    }
   ],
   "source": [
    "l = int(input(\"enter the value of l= \"))    #golobal variable\n",
    "b = int(input(\"enter the value of b= \"))    #global variable\n",
    "a = l*b\n",
    "print(a)\n",
    "\n",
    "def call():\n",
    "    cal()"
   ]
  },
  {
   "cell_type": "code",
   "execution_count": 11,
   "id": "71c0b38b",
   "metadata": {},
   "outputs": [
    {
     "name": "stdout",
     "output_type": "stream",
     "text": [
      "enter the value of l= 2\n",
      "enter the value of b= 3\n",
      "6\n"
     ]
    }
   ],
   "source": [
    "def cal(x,y):\n",
    "\n",
    "    a = x*y\n",
    "    print(a)\n",
    "\n",
    "\n",
    "    l = int(input(\"enter the value of l= \"))   \n",
    "    b = int(input(\"enter the value of b= \"))\n",
    "\n",
    "    cal(l,b)"
   ]
  },
  {
   "cell_type": "code",
   "execution_count": 14,
   "id": "36a5bdab",
   "metadata": {},
   "outputs": [
    {
     "name": "stdout",
     "output_type": "stream",
     "text": [
      "C\n",
      "C++\n",
      "C#\n",
      "Java\n"
     ]
    },
    {
     "data": {
      "text/plain": [
       "<function __main__.language(lan='Python')>"
      ]
     },
     "execution_count": 14,
     "metadata": {},
     "output_type": "execute_result"
    }
   ],
   "source": [
    "def language(lan = \"Python\"):\n",
    "    print(lan)\n",
    "    \n",
    "language(\"C\")\n",
    "language(\"C++\")\n",
    "language(\"C#\")\n",
    "language(\"Java\")\n",
    "language"
   ]
  },
  {
   "cell_type": "code",
   "execution_count": 17,
   "id": "02a05362",
   "metadata": {},
   "outputs": [
    {
     "ename": "SyntaxError",
     "evalue": "unterminated string literal (detected at line 19) (444769646.py, line 19)",
     "output_type": "error",
     "traceback": [
      "\u001b[0;36m  Cell \u001b[0;32mIn[17], line 19\u001b[0;36m\u001b[0m\n\u001b[0;31m    elif o == '\\' and b == 0:\u001b[0m\n\u001b[0m              ^\u001b[0m\n\u001b[0;31mSyntaxError\u001b[0m\u001b[0;31m:\u001b[0m unterminated string literal (detected at line 19)\n"
     ]
    }
   ],
   "source": [
    "def add(a,b):\n",
    "    return a+b\n",
    "def sub(a,b):\n",
    "    return a-b\n",
    "def mul(a,b):\n",
    "    return a*b\n",
    "def sub(a,b):\n",
    "    return a/b\n",
    "\n",
    "def call(a,b,o):\n",
    "    if o == \"+\":\n",
    "        print(add(a,b))\n",
    "    elif o == \"-\":\n",
    "        print(sub(a,b))\n",
    "    elif o == \"*\":\n",
    "        print(mul(a,b))\n",
    "    elif o == \"/\" and b!=0:\n",
    "        print(div(a,b))\n",
    "    elif o == \"\\\" and b == 0:\n",
    "        print(\"value of b is zero or you might mistype the div sign\")\n",
    "    else:\n",
    "        print(\"invalid syntaax\")\n",
    "        \n",
    "a = int(input(\"enter a= \"))\n",
    "b = int(input(\"enter b= \"))\n",
    "\n",
    "    "
   ]
  },
  {
   "cell_type": "code",
   "execution_count": 18,
   "id": "880c5613",
   "metadata": {},
   "outputs": [
    {
     "name": "stdout",
     "output_type": "stream",
     "text": [
      "0.8939966636005579\n"
     ]
    }
   ],
   "source": [
    "import math as m\n",
    "print(m.sin(90))"
   ]
  },
  {
   "cell_type": "code",
   "execution_count": 20,
   "id": "02c6b87e",
   "metadata": {},
   "outputs": [
    {
     "name": "stdout",
     "output_type": "stream",
     "text": [
      "3.141592653589793\n"
     ]
    }
   ],
   "source": [
    "print(m.pi)"
   ]
  },
  {
   "cell_type": "code",
   "execution_count": 21,
   "id": "fe098016",
   "metadata": {},
   "outputs": [
    {
     "name": "stdout",
     "output_type": "stream",
     "text": [
      "6.123233995736766e-17\n"
     ]
    }
   ],
   "source": [
    "print(m.cos(m.pi/2))"
   ]
  },
  {
   "cell_type": "code",
   "execution_count": 22,
   "id": "0b59866e",
   "metadata": {},
   "outputs": [
    {
     "name": "stdout",
     "output_type": "stream",
     "text": [
      "1.633123935319537e+16\n"
     ]
    }
   ],
   "source": [
    "print(m.tan(m.pi/2))"
   ]
  },
  {
   "cell_type": "code",
   "execution_count": 23,
   "id": "99ab0ae0",
   "metadata": {},
   "outputs": [
    {
     "name": "stdout",
     "output_type": "stream",
     "text": [
      "2.718281828459045\n"
     ]
    }
   ],
   "source": [
    "print(m.e)"
   ]
  },
  {
   "cell_type": "code",
   "execution_count": 25,
   "id": "08f9a637",
   "metadata": {},
   "outputs": [
    {
     "name": "stdout",
     "output_type": "stream",
     "text": [
      "3628800\n"
     ]
    }
   ],
   "source": [
    "print(m.factorial(10))"
   ]
  },
  {
   "cell_type": "code",
   "execution_count": 29,
   "id": "430285d8",
   "metadata": {},
   "outputs": [
    {
     "name": "stdout",
     "output_type": "stream",
     "text": [
      "8\n"
     ]
    }
   ],
   "source": [
    "a = lambda x:x**3\n",
    "print(a(2))"
   ]
  },
  {
   "cell_type": "code",
   "execution_count": 31,
   "id": "cd18e353",
   "metadata": {},
   "outputs": [
    {
     "name": "stdout",
     "output_type": "stream",
     "text": [
      "20\n"
     ]
    }
   ],
   "source": [
    "a = lambda x,y:x*y\n",
    "print(a(4,5))"
   ]
  },
  {
   "cell_type": "code",
   "execution_count": 38,
   "id": "022636d4",
   "metadata": {},
   "outputs": [
    {
     "name": "stdout",
     "output_type": "stream",
     "text": [
      "enter how many areas you waant= 3\n",
      "enter length= 12\n",
      "enter breadth= 1\n",
      "the area is  12\n",
      "enter length= 34\n",
      "enter breadth= 1\n",
      "the area is  34\n",
      "enter length= 54\n",
      "enter breadth= 10\n",
      "the area is  540\n"
     ]
    }
   ],
   "source": [
    "n = int(input(\"enter how many areas you waant= \"))\n",
    "for i in range(n):\n",
    "    x = int(input(\"enter length= \"))\n",
    "    y = int(input(\"enter breadth= \"))\n",
    "    a = lambda x,y:x*y\n",
    "    print(\"the area is \",a(x,y))"
   ]
  },
  {
   "cell_type": "code",
   "execution_count": null,
   "id": "9fa3a1ef",
   "metadata": {},
   "outputs": [],
   "source": [
    "#filter funnction\n",
    "#mp function"
   ]
  },
  {
   "cell_type": "code",
   "execution_count": 39,
   "id": "39a48e92",
   "metadata": {},
   "outputs": [],
   "source": [
    "#filter\n",
    "#filter((lambda<argument>:<condition>),list)"
   ]
  },
  {
   "cell_type": "code",
   "execution_count": 41,
   "id": "da9cdbcb",
   "metadata": {},
   "outputs": [
    {
     "name": "stdout",
     "output_type": "stream",
     "text": [
      "[2, 4, 6, 8, 10]\n"
     ]
    }
   ],
   "source": [
    "a = [1,2,3,4,5,6,7,8,9,10]\n",
    "print(list(filter((lambda x:x%2==0),a)))"
   ]
  },
  {
   "cell_type": "code",
   "execution_count": 45,
   "id": "7b217b49",
   "metadata": {},
   "outputs": [
    {
     "name": "stdout",
     "output_type": "stream",
     "text": [
      "['dog']\n"
     ]
    }
   ],
   "source": [
    "a = [\"Apple\",\"Ball\",\"Cat\",\"Dog\",\"Bat\",\"Fish\"]\n",
    "print(list(filter((lambda x:x.islower()),a)))"
   ]
  },
  {
   "cell_type": "code",
   "execution_count": 48,
   "id": "1611a5c2",
   "metadata": {},
   "outputs": [
    {
     "name": "stdout",
     "output_type": "stream",
     "text": [
      "[False, False, False, False, False, True]\n"
     ]
    }
   ],
   "source": [
    "a = [\"Apple\",\"Ball\",\"Cat\",\"Dog\",\"Bat\",\"fish\"]\n",
    "print(list(map((lambda x:x.islower()),a)))"
   ]
  },
  {
   "cell_type": "code",
   "execution_count": 50,
   "id": "d1a22dce",
   "metadata": {},
   "outputs": [
    {
     "name": "stdout",
     "output_type": "stream",
     "text": [
      "[24000.0, 36000.0, 48000.0, 60000.0, 72000.0, 24000.0, 84000.0, 24000.0]\n"
     ]
    }
   ],
   "source": [
    "a = [20000,30000,40000,50000,60000,20000,70000,20000]\n",
    "b = list(map(lambda x:x*1.2,a))\n",
    "print(b)"
   ]
  },
  {
   "cell_type": "code",
   "execution_count": 51,
   "id": "2d27f373",
   "metadata": {},
   "outputs": [],
   "source": [
    "#list and dict"
   ]
  },
  {
   "cell_type": "code",
   "execution_count": 1,
   "id": "34451480",
   "metadata": {},
   "outputs": [
    {
     "name": "stdout",
     "output_type": "stream",
     "text": [
      "[0, 1, 2, 3, 4, 5, 6, 7, 8, 9]\n"
     ]
    }
   ],
   "source": [
    "a = [i for i in range(10)]\n",
    "print(a)"
   ]
  },
  {
   "cell_type": "code",
   "execution_count": 2,
   "id": "2b794b92",
   "metadata": {},
   "outputs": [
    {
     "name": "stdout",
     "output_type": "stream",
     "text": [
      "Enter value= 3\n",
      "Enter value= 2\n",
      "Enter value= 4\n",
      "Enter value= 5\n",
      "Enter value= 1\n",
      "[3, 2, 4, 5, 1]\n"
     ]
    }
   ],
   "source": [
    "a = [int(input(\"Enter value= \"))\n",
    "    for i in range(5)]\n",
    "print(a)"
   ]
  },
  {
   "cell_type": "code",
   "execution_count": 3,
   "id": "8b5cc58e",
   "metadata": {},
   "outputs": [
    {
     "name": "stdout",
     "output_type": "stream",
     "text": [
      "enter value= 3\n",
      "enter value= 2\n",
      "enter value= 1\n",
      "enter value= 2\n",
      "enter value= 2\n",
      "10\n"
     ]
    }
   ],
   "source": [
    "a = sum([int(input(\"enter value= \")) for i in range(5)])\n",
    "print(a)"
   ]
  },
  {
   "cell_type": "code",
   "execution_count": 5,
   "id": "f05c2cff",
   "metadata": {},
   "outputs": [
    {
     "name": "stdout",
     "output_type": "stream",
     "text": [
      "enter the value of n= 2\n",
      "Enter name= ram\n",
      "Enter number= 33\n",
      "Enter name= shyam402\n",
      "Enter number= 402\n",
      "{'ram': '33', 'shyam402': '402'}\n"
     ]
    }
   ],
   "source": [
    "n = int(input(\"enter the value of n= \"))\n",
    "a = {input(\"Enter name= \"):input(\"Enter number= \") for i in range(n)}\n",
    "print(a)"
   ]
  },
  {
   "cell_type": "code",
   "execution_count": 6,
   "id": "9920098f",
   "metadata": {},
   "outputs": [
    {
     "name": "stdout",
     "output_type": "stream",
     "text": [
      "{1: 1, 2: 4, 3: 9, 4: 16, 5: 25, 6: 36, 7: 49, 8: 64, 9: 81}\n"
     ]
    }
   ],
   "source": [
    "x = [1,2,3,4,5,6,7,8,9]\n",
    "a = {i:i**2 for i in x}\n",
    "print(a)"
   ]
  },
  {
   "cell_type": "code",
   "execution_count": null,
   "id": "2b67eb13",
   "metadata": {},
   "outputs": [],
   "source": []
  }
 ],
 "metadata": {
  "kernelspec": {
   "display_name": "Python 3 (ipykernel)",
   "language": "python",
   "name": "python3"
  },
  "language_info": {
   "codemirror_mode": {
    "name": "ipython",
    "version": 3
   },
   "file_extension": ".py",
   "mimetype": "text/x-python",
   "name": "python",
   "nbconvert_exporter": "python",
   "pygments_lexer": "ipython3",
   "version": "3.11.5"
  }
 },
 "nbformat": 4,
 "nbformat_minor": 5
}
