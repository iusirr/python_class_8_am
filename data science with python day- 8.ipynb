{
 "cells": [
  {
   "cell_type": "code",
   "execution_count": 1,
   "id": "ad66cc47",
   "metadata": {},
   "outputs": [
    {
     "name": "stdout",
     "output_type": "stream",
     "text": [
      "{'a': 'Apple', 'b': 'Ball', 'c': 'Cat'}\n"
     ]
    }
   ],
   "source": [
    "a = {}\n",
    "a['a'] = 'Apple'\n",
    "a['b'] = 'Ball'\n",
    "a['c']= 'Cat'\n",
    "print(a)"
   ]
  },
  {
   "cell_type": "code",
   "execution_count": 2,
   "id": "c344e50f",
   "metadata": {},
   "outputs": [
    {
     "name": "stdout",
     "output_type": "stream",
     "text": [
      "enter n = 2\n",
      "Enter name = ram\n",
      "enter your phone number = 9847746776743\n",
      "Enter name = shyam\n",
      "enter your phone number = 8319938233\n",
      "{'ram': 9847746776743, 'shyam': 8319938233}\n"
     ]
    }
   ],
   "source": [
    "a = {}\n",
    "n = int(input(\"enter n = \"))\n",
    "for i in range (n):\n",
    "    name = input(\"Enter name = \")\n",
    "    phone = int(input(\"enter your phone number = \"))\n",
    "    a[name] = phone\n",
    "    \n",
    "print(a)"
   ]
  },
  {
   "cell_type": "code",
   "execution_count": 3,
   "id": "e47f30cc",
   "metadata": {
    "scrolled": true
   },
   "outputs": [
    {
     "data": {
      "text/plain": [
       "9847746776743"
      ]
     },
     "execution_count": 3,
     "metadata": {},
     "output_type": "execute_result"
    }
   ],
   "source": [
    "a['ram']"
   ]
  },
  {
   "cell_type": "code",
   "execution_count": 5,
   "id": "e9872efc",
   "metadata": {},
   "outputs": [
    {
     "name": "stdout",
     "output_type": "stream",
     "text": [
      "9847746776743\n",
      "8319938233\n",
      "934723284\n"
     ]
    }
   ],
   "source": [
    "a = {'ram': 9847746776743, 'shyam': 8319938233, 'hari' : 934723284}\n",
    "for i in a.values():\n",
    "    print(i)\n"
   ]
  },
  {
   "cell_type": "code",
   "execution_count": 6,
   "id": "2d4d6b52",
   "metadata": {},
   "outputs": [
    {
     "name": "stdout",
     "output_type": "stream",
     "text": [
      "('ram', 9847746776743)\n",
      "('shyam', 8319938233)\n",
      "('hari', 934723284)\n"
     ]
    }
   ],
   "source": [
    "a = {'ram': 9847746776743, 'shyam': 8319938233, 'hari' : 934723284}\n",
    "for i in a.items():\n",
    "    print(i)\n"
   ]
  },
  {
   "cell_type": "code",
   "execution_count": 8,
   "id": "8d896a5a",
   "metadata": {},
   "outputs": [
    {
     "data": {
      "text/plain": [
       "{'ram': 9847746776743,\n",
       " 'shyam': 8319938233,\n",
       " 'hari': 934723284,\n",
       " 'Gita': 9847327634}"
      ]
     },
     "execution_count": 8,
     "metadata": {},
     "output_type": "execute_result"
    }
   ],
   "source": [
    "a"
   ]
  },
  {
   "cell_type": "code",
   "execution_count": 9,
   "id": "316d58fe",
   "metadata": {},
   "outputs": [
    {
     "name": "stdout",
     "output_type": "stream",
     "text": [
      "{'ram': 9847746776743, 'shyam': 8319938233, 'hari': 934723284, 'Gita': 9847327634, 'Sita': 9848249121}\n"
     ]
    }
   ],
   "source": [
    "a = {'ram': 9847746776743, 'shyam': 8319938233, 'hari': 934723284, 'Gita': 9847327634}\n",
    "b = { 'Sita': 9848249121}\n",
    "a.update(b)\n",
    "print(a)"
   ]
  },
  {
   "cell_type": "code",
   "execution_count": 14,
   "id": "8fc30eaa",
   "metadata": {},
   "outputs": [
    {
     "name": "stdout",
     "output_type": "stream",
     "text": [
      "9847746776743\n",
      "{'shyam': 8319938233, 'hari': 934723284}\n"
     ]
    }
   ],
   "source": [
    "a = {'ram': 9847746776743, 'shyam': 8319938233, 'hari' : 934723284}\n",
    "b = a.pop('ram')\n",
    "print(b)\n",
    "print(a)"
   ]
  },
  {
   "cell_type": "code",
   "execution_count": null,
   "id": "5e712e65",
   "metadata": {},
   "outputs": [],
   "source": []
  },
  {
   "cell_type": "code",
   "execution_count": null,
   "id": "64dec4e3",
   "metadata": {},
   "outputs": [],
   "source": [
    "a = {'name':['ram', 'shyam', 'hari'],\n",
    "     'age':[43, 45, 67],\n",
    "     'address':['ktm','bkt','lalitpur']}\n",
    "a"
   ]
  },
  {
   "cell_type": "code",
   "execution_count": null,
   "id": "b48e5fac",
   "metadata": {},
   "outputs": [],
   "source": [
    "a = {}\n",
    "n = int(input(\"enter n= \"))\n",
    "for i in range(n):\n",
    "    name= input(\"enter name= \")\n",
    "    ntc= int(input(\"enter ntc number= \"))\n",
    "    ncell= int(input(\"enter ncell= \"))\n",
    "    a[name] = [ntc,ncell]\n",
    "    \n",
    "print(a)"
   ]
  },
  {
   "cell_type": "code",
   "execution_count": null,
   "id": "eb02e9da",
   "metadata": {},
   "outputs": [],
   "source": [
    "a = {'name':[], 'age':[], 'address':[]}\n",
    "n = int(input(\"enter n= \"))\n",
    "for i in range(n):\n",
    "        name= input(\"enter name= \")\n",
    "        age= int(input(\"enter age= \"))\n",
    "        address= input(\"enter address= \")\n",
    "        a['name'].append(name)\n",
    "        a['age'].append(age)\n",
    "        a['address'].append(address)\n",
    "        \n",
    "print(a)"
   ]
  },
  {
   "cell_type": "code",
   "execution_count": null,
   "id": "08378e8d",
   "metadata": {},
   "outputs": [],
   "source": [
    "a = {'name': ['ram', 'shyam'], 'age': [32, 43], 'address': ['ktm', 'bkt']}\n",
    "print(\"Name = \",a['name'][0])\n",
    "print(\"age = \",a['age'][0])\n",
    "print(\"Address = \",a['address'][0])"
   ]
  },
  {
   "cell_type": "code",
   "execution_count": null,
   "id": "8b4818fa",
   "metadata": {},
   "outputs": [],
   "source": [
    "a = {'name':[], 'age':[], 'address':[]}\n",
    "n = int(input(\"enter n= \"))\n",
    "for i in range(n):\n",
    "    index = n + 1:\n",
    "        name= input(\"enter name= \")\n",
    "        age= int(input(\"enter age= \"))\n",
    "        address= input(\"enter address= \")\n",
    "print(\"His name is \",a['name'][index],\".He is a \",a['age'][index],\" years old man who lives in \",a['address'][index],\".\")"
   ]
  },
  {
   "cell_type": "code",
   "execution_count": null,
   "id": "4b3d1cf4",
   "metadata": {},
   "outputs": [],
   "source": [
    "a = {'name': ['ram', 'shyam'], 'age': [32, 43], 'address': ['ktm', 'bkt']}\n",
    "k = list(a.keys())\n",
    "print(k)\n",
    "index = int(input(\"enter index= \"))\n",
    "for i in a:\n",
    "    del a[k][index]\n",
    "    "
   ]
  },
  {
   "cell_type": "code",
   "execution_count": null,
   "id": "71cd9cb0",
   "metadata": {},
   "outputs": [],
   "source": []
  },
  {
   "cell_type": "code",
   "execution_count": null,
   "id": "3bfca61f",
   "metadata": {},
   "outputs": [],
   "source": []
  },
  {
   "cell_type": "code",
   "execution_count": null,
   "id": "f9165465",
   "metadata": {},
   "outputs": [],
   "source": []
  },
  {
   "cell_type": "code",
   "execution_count": null,
   "id": "a03c8a2d",
   "metadata": {},
   "outputs": [],
   "source": []
  }
 ],
 "metadata": {
  "kernelspec": {
   "display_name": "Python 3 (ipykernel)",
   "language": "python",
   "name": "python3"
  },
  "language_info": {
   "codemirror_mode": {
    "name": "ipython",
    "version": 3
   },
   "file_extension": ".py",
   "mimetype": "text/x-python",
   "name": "python",
   "nbconvert_exporter": "python",
   "pygments_lexer": "ipython3",
   "version": "3.11.5"
  }
 },
 "nbformat": 4,
 "nbformat_minor": 5
}
