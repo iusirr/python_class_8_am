{
 "cells": [
  {
   "cell_type": "code",
   "execution_count": null,
   "id": "f7bb581d",
   "metadata": {},
   "outputs": [],
   "source": []
  },
  {
   "cell_type": "code",
   "execution_count": 9,
   "id": "4f862935",
   "metadata": {},
   "outputs": [],
   "source": [
    "#write on file\n",
    "file = open('data.txt','w')\n",
    "file.write('Hello World')\n",
    "file.close()"
   ]
  },
  {
   "cell_type": "code",
   "execution_count": 10,
   "id": "b0e278ac",
   "metadata": {},
   "outputs": [
    {
     "name": "stdout",
     "output_type": "stream",
     "text": [
      "enter n= 2\n",
      "Enter name= ball\n",
      "enter price= 600\n",
      "enter quantity= 3\n",
      "Enter name= bat\n",
      "enter price= 900\n",
      "enter quantity= 2\n"
     ]
    }
   ],
   "source": [
    "bill = \"\"\n",
    "n = int(input(\"enter n= \"))\n",
    "for i in range(n):\n",
    "    name = input(\"Enter name= \")\n",
    "    price = int(input(\"enter price= \"))\n",
    "    quant = int(input(\"enter quantity= \"))\n",
    "    total = price * quant\n",
    "    bill = bill + f\"{name} {price} {quant} {total}\\n\"\n",
    "    \n",
    "file = open('bill.txt','w')\n",
    "file.write(bill)\n",
    "file.close()"
   ]
  },
  {
   "cell_type": "code",
   "execution_count": 11,
   "id": "ccf42852",
   "metadata": {},
   "outputs": [
    {
     "name": "stdout",
     "output_type": "stream",
     "text": [
      "ball 600 3 1800\n",
      "bat 900 2 1800\n",
      "\n"
     ]
    }
   ],
   "source": [
    "file = open('bill.txt','r')\n",
    "content = file.read()\n",
    "print(content)\n",
    "file.close()"
   ]
  },
  {
   "cell_type": "code",
   "execution_count": 12,
   "id": "12891041",
   "metadata": {},
   "outputs": [
    {
     "data": {
      "text/plain": [
       "['ball 600 3 1800', 'bat 900 2 1800']"
      ]
     },
     "execution_count": 12,
     "metadata": {},
     "output_type": "execute_result"
    }
   ],
   "source": [
    "data = content.split('\\n')[:-1]\n",
    "data"
   ]
  },
  {
   "cell_type": "code",
   "execution_count": 23,
   "id": "a6a393b1",
   "metadata": {},
   "outputs": [
    {
     "name": "stdout",
     "output_type": "stream",
     "text": [
      "[['ball', 600, 600, 1800], ['bat', 900, 900, 1800]]\n"
     ]
    }
   ],
   "source": [
    "list_bill =[]\n",
    "for i in data:\n",
    "    x = i.split()\n",
    "    x[1]= int(x[1])\n",
    "    x[2]= int(x[1])\n",
    "    x[3]= int(x[3])\n",
    "    list_bill.append(x)\n",
    "print(list_bill)"
   ]
  },
  {
   "cell_type": "code",
   "execution_count": 20,
   "id": "7d50e7b8",
   "metadata": {},
   "outputs": [],
   "source": [
    "del list_bill[1]"
   ]
  },
  {
   "cell_type": "code",
   "execution_count": 21,
   "id": "ce1be3de",
   "metadata": {},
   "outputs": [
    {
     "data": {
      "text/plain": [
       "[['ball', 600, 600, 1800]]"
      ]
     },
     "execution_count": 21,
     "metadata": {},
     "output_type": "execute_result"
    }
   ],
   "source": [
    "list_bill"
   ]
  },
  {
   "cell_type": "code",
   "execution_count": 24,
   "id": "0a0f879d",
   "metadata": {},
   "outputs": [],
   "source": [
    "#writing list into file\n",
    "import csv\n",
    "file = open('bill1.txt','w')\n",
    "x = csv.writer(file)\n",
    "x.writerows(list_bill)\n",
    "file.close()"
   ]
  },
  {
   "cell_type": "code",
   "execution_count": 1,
   "id": "69adf3da",
   "metadata": {},
   "outputs": [],
   "source": [
    "#Append mode in file\n",
    "file = open('append_bill.txt','a')"
   ]
  },
  {
   "cell_type": "code",
   "execution_count": 2,
   "id": "b38064b4",
   "metadata": {},
   "outputs": [
    {
     "name": "stdout",
     "output_type": "stream",
     "text": [
      "enter n= 2\n",
      "enter name= ram\n",
      "enter age= 21\n",
      "enter address= ktm\n",
      "enter name= shyam\n",
      "enter age= 31\n",
      "enter address= bkt\n"
     ]
    }
   ],
   "source": [
    "info = \"\"\n",
    "n = int(input(\"enter n= \"))\n",
    "for i in range(n):\n",
    "    name = input(\"enter name= \")\n",
    "    age = int(input(\"enter age= \"))\n",
    "    add = input(\"enter address= \")\n",
    "    info = info + f\"{name} {age} {add}\\n\"\n",
    "file.write(info)\n",
    "file.close()\n",
    "    "
   ]
  },
  {
   "cell_type": "code",
   "execution_count": 28,
   "id": "ac906de4",
   "metadata": {},
   "outputs": [],
   "source": [
    "file.close()"
   ]
  },
  {
   "cell_type": "code",
   "execution_count": null,
   "id": "743b1699",
   "metadata": {},
   "outputs": [],
   "source": []
  },
  {
   "cell_type": "code",
   "execution_count": null,
   "id": "64db5e59",
   "metadata": {},
   "outputs": [],
   "source": []
  }
 ],
 "metadata": {
  "kernelspec": {
   "display_name": "Python 3 (ipykernel)",
   "language": "python",
   "name": "python3"
  },
  "language_info": {
   "codemirror_mode": {
    "name": "ipython",
    "version": 3
   },
   "file_extension": ".py",
   "mimetype": "text/x-python",
   "name": "python",
   "nbconvert_exporter": "python",
   "pygments_lexer": "ipython3",
   "version": "3.11.5"
  }
 },
 "nbformat": 4,
 "nbformat_minor": 5
}
