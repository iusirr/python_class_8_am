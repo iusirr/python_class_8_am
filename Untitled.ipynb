{
 "cells": [
  {
   "cell_type": "code",
   "execution_count": 4,
   "id": "87decc6e-0363-4938-a6ad-3b7ad705249e",
   "metadata": {
    "tags": []
   },
   "outputs": [
    {
     "name": "stdout",
     "output_type": "stream",
     "text": [
      "True\n"
     ]
    }
   ],
   "source": [
    "print(True or False)"
   ]
  },
  {
   "cell_type": "code",
   "execution_count": 19,
   "id": "308d8e9f-5d07-438b-a43e-f63ebe849895",
   "metadata": {
    "tags": []
   },
   "outputs": [
    {
     "name": "stdin",
     "output_type": "stream",
     "text": [
      "Enter x =  -4\n"
     ]
    },
    {
     "name": "stdout",
     "output_type": "stream",
     "text": [
      "negative and even\n"
     ]
    }
   ],
   "source": [
    "x = int(input(\"Enter x = \"))\n",
    "if x%2==0 and x>=1:\n",
    "    print(\"The no is even and positive\")\n",
    "elif x%2!=0 and x<0:\n",
    "    print(\"The no is odd and negative\")\n",
    "elif x<0 and x%2==0:\n",
    "    print(\"negative and even\")\n",
    "elif x>0 and x%2!=0:\n",
    "    print(\"positive and odd\")\n",
    "else:\n",
    "    print(\"neither even nor odd it is zeroooooooooooo\")"
   ]
  },
  {
   "cell_type": "code",
   "execution_count": 46,
   "id": "b5a25c5b-0c00-4f04-af46-bc3c9bde5564",
   "metadata": {
    "tags": []
   },
   "outputs": [
    {
     "name": "stdin",
     "output_type": "stream",
     "text": [
      "Enter x =  3\n"
     ]
    },
    {
     "name": "stdout",
     "output_type": "stream",
     "text": [
      "the number is odd and negative\n"
     ]
    }
   ],
   "source": [
    "x = int(input(\"Enter x = \"))\n",
    "if x%2==0:\n",
    "    if x>0:\n",
    "        print(\"The no is even and positive\")\n",
    "    else:\n",
    "        print(\"the no is even and negative\")\n",
    "else:\n",
    "    if x%2!=0:\n",
    "        print(\"the number is odd and negative\")\n",
    "    else:\n",
    "        print(\"the number is odd and positive\")\n",
    "    "
   ]
  },
  {
   "cell_type": "code",
   "execution_count": 44,
   "id": "af1a06c3-c819-4616-a934-f679accec7af",
   "metadata": {
    "tags": []
   },
   "outputs": [
    {
     "name": "stdin",
     "output_type": "stream",
     "text": [
      "Enter physics marks =  0\n",
      "Enter chemistry marks =  90\n",
      "Enter math marks =  90\n",
      "Enter english marks =  90\n",
      "Enter nepali =  90\n"
     ]
    },
    {
     "name": "stdout",
     "output_type": "stream",
     "text": [
      "Total =  360\n",
      "Per =  72.0\n",
      "Grade =  B\n"
     ]
    }
   ],
   "source": [
    "p = int(input(\"Enter physics marks = \"))\n",
    "c = int(input(\"Enter chemistry marks = \"))\n",
    "m = int(input(\"Enter math marks = \"))\n",
    "e = int(input(\"Enter english marks = \"))\n",
    "n = int(input(\"Enter nepali = \"))\n",
    "\n",
    "if p!=0 or c!=0 or m!=0 or e!=0 or n!=0:\n",
    "    total = p + c + m + e + n\n",
    "    per = total/5\n",
    "    if per >= 80:\n",
    "        grade = \"A\"\n",
    "    elif per >=60:\n",
    "        grade = \"B\"\n",
    "    elif per >= 45:\n",
    "        grade = \"C\"\n",
    "    else:\n",
    "        grade = \"F\"\n",
    "    print(\"Total = \",total)\n",
    "    print(\"Per = \",per)\n",
    "    print(\"Grade = \",grade)\n",
    "else:\n",
    "    print(\"failed\")"
   ]
  },
  {
   "cell_type": "code",
   "execution_count": null,
   "id": "b36510f5-6f67-4130-bbb9-58041cd80cb6",
   "metadata": {
    "tags": []
   },
   "outputs": [
    {
     "name": "stdin",
     "output_type": "stream",
     "text": [
      "Enter a number:  4\n",
      "Enter a number:  5\n",
      "Enter a number:  4\n",
      "Enter a number:  5\n",
      "Enter a number:  4\n",
      "Enter a number:  4\n",
      "Enter a number:  5\n",
      "Enter a number:  4\n",
      "Enter a number:  5\n"
     ]
    }
   ],
   "source": [
    "sum = 0\n",
    "\n",
    "for i in range(n):\n",
    "\n",
    "   num = int(input(\"Enter a number: \"))\n",
    "\n",
    "   sum = num + n\n",
    "\n",
    "print(\"The sum is:\", sum)"
   ]
  },
  {
   "cell_type": "code",
   "execution_count": null,
   "id": "d3cd4243-8f67-44c7-8f76-16b6ce69836a",
   "metadata": {},
   "outputs": [],
   "source": [
    "sum = 0\n",
    "\n",
    "n = int(input(\"how many numbers you want to add up\")\n",
    "for i in range(n):\n",
    "\n",
    "   num = int(input(\"Enter a number: \"))\n",
    "\n",
    "   sum = num + n\n",
    "\n",
    "print(\"The sum is:\", sum)"
   ]
  },
  {
   "cell_type": "code",
   "execution_count": null,
   "id": "78af29c0-f2f8-4160-a682-27e52fb4e183",
   "metadata": {},
   "outputs": [],
   "source": [
    "a= \"hello world\"\n",
    "print(a[0:5])\n",
    "print(a[0:10:2])"
   ]
  },
  {
   "cell_type": "code",
   "execution_count": null,
   "id": "114db029-779d-4f1b-9f2b-b20220b735c9",
   "metadata": {},
   "outputs": [],
   "source": []
  },
  {
   "cell_type": "code",
   "execution_count": null,
   "id": "9607cea7-733b-4c0f-9629-e0c40465f4c0",
   "metadata": {
    "tags": []
   },
   "outputs": [],
   "source": [
    "a= \"hello world\"\n",
    "print(a[0:5]) \n",
    "print(a[0:10:2])"
   ]
  },
  {
   "cell_type": "code",
   "execution_count": null,
   "id": "a246c5b6-9100-46fd-b582-32e2127f293f",
   "metadata": {},
   "outputs": [],
   "source": [
    "#list\n",
    "#-indexing\n",
    "# -Multiple and duplicate\n",
    "# -Ordered\n",
    "# -Mutable"
   ]
  },
  {
   "cell_type": "code",
   "execution_count": 49,
   "id": "d70fcd07-73ef-4acb-800a-39fe5aedb6ab",
   "metadata": {
    "tags": []
   },
   "outputs": [
    {
     "name": "stdout",
     "output_type": "stream",
     "text": [
      "<class 'list'>\n",
      "<class 'list'>\n"
     ]
    }
   ],
   "source": [
    "#l = list()\n",
    "l = [\"Apple\",\"Ball\",\"Cat\",\"Dog\",\"Elephant\"]\n",
    "a = [1,2,3,4,5,6,7,8,9,0]\n",
    "print(type(l))\n",
    "print(type(a))"
   ]
  },
  {
   "cell_type": "code",
   "execution_count": 51,
   "id": "65fe946b-2cb4-4650-bc69-367d1bd87891",
   "metadata": {
    "tags": []
   },
   "outputs": [
    {
     "name": "stdout",
     "output_type": "stream",
     "text": [
      "Apple\n",
      "['Apple', 'Ball', 'Cat', 'Dog']\n",
      "['Apple', 'Cat', 'Elephant']\n",
      "['Apple', 'Ball', 'Cat', 'Dog', 'Elephant']\n"
     ]
    }
   ],
   "source": [
    "l = [\"Apple\",\"Ball\",\"Cat\",\"Dog\",\"Elephant\"]\n",
    "print(l[0])\n",
    "print(l[0:4])\n",
    "print(l[0:5:2])\n",
    "print(l)"
   ]
  },
  {
   "cell_type": "code",
   "execution_count": 58,
   "id": "3e79d130-8287-4ac5-b235-ea1214ea8c4a",
   "metadata": {
    "tags": []
   },
   "outputs": [
    {
     "name": "stdin",
     "output_type": "stream",
     "text": [
      "enter for search=  Ball\n"
     ]
    },
    {
     "name": "stdout",
     "output_type": "stream",
     "text": [
      "yes\n",
      "1\n"
     ]
    }
   ],
   "source": [
    "l = [\"Apple\",\"Ball\",\"Cat\",\"Dog\",\"Elephant\"]\n",
    "search = input(\"enter for search= \")\n",
    "if search in l:\n",
    "    print(\"yes\")\n",
    "    print(l.count(search))\n",
    "else:\n",
    "    print(\"NOOO\")"
   ]
  },
  {
   "cell_type": "code",
   "execution_count": 60,
   "id": "245d07ce-ebb9-4331-a16a-6303506a168a",
   "metadata": {
    "tags": []
   },
   "outputs": [
    {
     "name": "stdout",
     "output_type": "stream",
     "text": [
      "Maximum value =  456\n"
     ]
    }
   ],
   "source": [
    "l = [13,23,123,456,21,42]\n",
    "print(\"Maximum value = \",max(l))"
   ]
  },
  {
   "cell_type": "code",
   "execution_count": 62,
   "id": "4e7993e4-202e-410a-82b7-118b3a2878c1",
   "metadata": {
    "tags": []
   },
   "outputs": [
    {
     "name": "stdout",
     "output_type": "stream",
     "text": [
      "['Apple', 'Cat', 'Dog', 'Elephant']\n"
     ]
    }
   ],
   "source": [
    "a = [\"Apple\",\"Ball\",\"Cat\",\"Dog\",\"Elephant\"]\n",
    "a.remove(\"Ball\")\n",
    "print(a)"
   ]
  },
  {
   "cell_type": "code",
   "execution_count": 63,
   "id": "f527db93-f6b6-4f2c-abbc-cb969d9ca8ba",
   "metadata": {
    "tags": []
   },
   "outputs": [
    {
     "name": "stdout",
     "output_type": "stream",
     "text": [
      "['Zebra', 'Apple', 'Cat', 'ant']\n"
     ]
    }
   ],
   "source": [
    "a= [\"Ball\",\"Zebra\",\"Apple\",\"Ball\",\"Cat\",\"ant\",\"Ball\"]\n",
    "c = a.count(\"Ball\")\n",
    "for i in range(c):\n",
    "    a.remove(\"Ball\")\n",
    "print(a)\n"
   ]
  },
  {
   "cell_type": "code",
   "execution_count": 80,
   "id": "3a411f5d-44af-478c-87a3-3998f83d79e1",
   "metadata": {
    "tags": []
   },
   "outputs": [
    {
     "name": "stdout",
     "output_type": "stream",
     "text": [
      "0\n",
      "4\n",
      "6\n"
     ]
    }
   ],
   "source": [
    "a= [\"Ball\",\"Zebra\",\"Apple\",\"Cat\",\"Ball\",\"ant\",\"Ball\"]\n",
    "c = len(a)\n",
    "for i in range(c):\n",
    "    if \"Ball\"==a[i]:\n",
    "        print(i)"
   ]
  },
  {
   "cell_type": "code",
   "execution_count": null,
   "id": "f22ba6cf-8b2f-436d-baeb-66cadfec8fc3",
   "metadata": {},
   "outputs": [],
   "source": []
  }
 ],
 "metadata": {
  "kernelspec": {
   "display_name": "Python 3 (ipykernel)",
   "language": "python",
   "name": "python3"
  },
  "language_info": {
   "codemirror_mode": {
    "name": "ipython",
    "version": 3
   },
   "file_extension": ".py",
   "mimetype": "text/x-python",
   "name": "python",
   "nbconvert_exporter": "python",
   "pygments_lexer": "ipython3",
   "version": "3.11.5"
  }
 },
 "nbformat": 4,
 "nbformat_minor": 5
}
