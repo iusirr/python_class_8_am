{
 "cells": [
  {
   "cell_type": "code",
   "execution_count": 1,
   "id": "ad66cc47",
   "metadata": {},
   "outputs": [
    {
     "name": "stdout",
     "output_type": "stream",
     "text": [
      "{'a': 'Apple', 'b': 'Ball', 'c': 'Cat'}\n"
     ]
    }
   ],
   "source": [
    "a = {}\n",
    "a['a'] = 'Apple'\n",
    "a['b'] = 'Ball'\n",
    "a['c']= 'Cat'\n",
    "print(a)"
   ]
  },
  {
   "cell_type": "code",
   "execution_count": 2,
   "id": "c344e50f",
   "metadata": {},
   "outputs": [
    {
     "name": "stdout",
     "output_type": "stream",
     "text": [
      "enter n = 2\n",
      "Enter name = ram\n",
      "enter your phone number = 9847746776743\n",
      "Enter name = shyam\n",
      "enter your phone number = 8319938233\n",
      "{'ram': 9847746776743, 'shyam': 8319938233}\n"
     ]
    }
   ],
   "source": [
    "a = {}\n",
    "n = int(input(\"enter n = \"))\n",
    "for i in range (n):\n",
    "    name = input(\"Enter name = \")\n",
    "    phone = int(input(\"enter your phone number = \"))\n",
    "    a[name] = phone\n",
    "    \n",
    "print(a)"
   ]
  },
  {
   "cell_type": "code",
   "execution_count": 3,
   "id": "e47f30cc",
   "metadata": {
    "scrolled": true
   },
   "outputs": [
    {
     "data": {
      "text/plain": [
       "9847746776743"
      ]
     },
     "execution_count": 3,
     "metadata": {},
     "output_type": "execute_result"
    }
   ],
   "source": [
    "a['ram']"
   ]
  },
  {
   "cell_type": "code",
   "execution_count": 5,
   "id": "e9872efc",
   "metadata": {},
   "outputs": [
    {
     "name": "stdout",
     "output_type": "stream",
     "text": [
      "9847746776743\n",
      "8319938233\n",
      "934723284\n"
     ]
    }
   ],
   "source": [
    "a = {'ram': 9847746776743, 'shyam': 8319938233, 'hari' : 934723284}\n",
    "for i in a.values():\n",
    "    print(i)\n"
   ]
  },
  {
   "cell_type": "code",
   "execution_count": 6,
   "id": "2d4d6b52",
   "metadata": {},
   "outputs": [
    {
     "name": "stdout",
     "output_type": "stream",
     "text": [
      "('ram', 9847746776743)\n",
      "('shyam', 8319938233)\n",
      "('hari', 934723284)\n"
     ]
    }
   ],
   "source": [
    "a = {'ram': 9847746776743, 'shyam': 8319938233, 'hari' : 934723284}\n",
    "for i in a.items():\n",
    "    print(i)\n"
   ]
  },
  {
   "cell_type": "code",
   "execution_count": 8,
   "id": "8d896a5a",
   "metadata": {},
   "outputs": [
    {
     "data": {
      "text/plain": [
       "{'ram': 9847746776743,\n",
       " 'shyam': 8319938233,\n",
       " 'hari': 934723284,\n",
       " 'Gita': 9847327634}"
      ]
     },
     "execution_count": 8,
     "metadata": {},
     "output_type": "execute_result"
    }
   ],
   "source": [
    "a"
   ]
  },
  {
   "cell_type": "code",
   "execution_count": 9,
   "id": "162bd5b4",
   "metadata": {},
   "outputs": [
    {
     "name": "stdout",
     "output_type": "stream",
     "text": [
      "{'ram': 9847746776743, 'shyam': 8319938233, 'hari': 934723284, 'Gita': 9847327634, 'Sita': 9848249121}\n"
     ]
    }
   ],
   "source": [
    "a = {'ram': 9847746776743, 'shyam': 8319938233, 'hari': 934723284, 'Gita': 9847327634}\n",
    "b = { 'Sita': 9848249121}\n",
    "a.update(b)\n",
    "print(a)"
   ]
  },
  {
   "cell_type": "code",
   "execution_count": 14,
   "id": "390cd6ae",
   "metadata": {},
   "outputs": [
    {
     "name": "stdout",
     "output_type": "stream",
     "text": [
      "9847746776743\n",
      "{'shyam': 8319938233, 'hari': 934723284}\n"
     ]
    }
   ],
   "source": [
    "a = {'ram': 9847746776743, 'shyam': 8319938233, 'hari' : 934723284}\n",
    "b = a.pop('ram')\n",
    "print(b)\n",
    "print(a)"
   ]
  },
  {
   "cell_type": "code",
   "execution_count": null,
   "id": "c8ae4ae4",
   "metadata": {},
   "outputs": [],
   "source": []
  }
 ],
 "metadata": {
  "kernelspec": {
   "display_name": "Python 3 (ipykernel)",
   "language": "python",
   "name": "python3"
  },
  "language_info": {
   "codemirror_mode": {
    "name": "ipython",
    "version": 3
   },
   "file_extension": ".py",
   "mimetype": "text/x-python",
   "name": "python",
   "nbconvert_exporter": "python",
   "pygments_lexer": "ipython3",
   "version": "3.11.5"
  }
 },
 "nbformat": 4,
 "nbformat_minor": 5
}
