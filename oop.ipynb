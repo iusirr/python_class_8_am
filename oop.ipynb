{
 "cells": [
  {
   "cell_type": "code",
   "execution_count": 28,
   "id": "5a42b816",
   "metadata": {},
   "outputs": [
    {
     "name": "stdout",
     "output_type": "stream",
     "text": [
      "Hello World\n"
     ]
    }
   ],
   "source": [
    "class Hello:\n",
    "    def hello(self):\n",
    "        print(\"Hello World\")\n",
    "        \n",
    "obj = Hello()\n",
    "obj.hello()"
   ]
  },
  {
   "cell_type": "code",
   "execution_count": 29,
   "id": "a1e401c2",
   "metadata": {},
   "outputs": [
    {
     "name": "stdout",
     "output_type": "stream",
     "text": [
      "Hello World\n"
     ]
    }
   ],
   "source": [
    "class Hello:\n",
    "    @staticmethod\n",
    "    def hello():\n",
    "        print(\"Hello World\")\n",
    "        \n",
    "obj = Hello()\n",
    "obj.hello()"
   ]
  },
  {
   "cell_type": "code",
   "execution_count": 38,
   "id": "26a65b57",
   "metadata": {},
   "outputs": [
    {
     "name": "stdout",
     "output_type": "stream",
     "text": [
      "enter length= 2\n",
      "enter breadth= 3\n",
      "6\n"
     ]
    }
   ],
   "source": [
    "class Call:\n",
    "    def area(s):\n",
    "        l= int(input(\"enter length= \"))\n",
    "        b = int(input(\"enter breadth= \"))\n",
    "        a = l * b\n",
    "        print (a)\n",
    "        \n",
    "obj = Call()\n",
    "obj.area()"
   ]
  },
  {
   "cell_type": "code",
   "execution_count": 40,
   "id": "7e899906",
   "metadata": {},
   "outputs": [
    {
     "name": "stdout",
     "output_type": "stream",
     "text": [
      "enter height= 3\n",
      "enter length= 3\n",
      "enter breadth= 3\n",
      "27\n"
     ]
    }
   ],
   "source": [
    "class Call:\n",
    "    def volume(s):\n",
    "        l= int(input(\"enter length= \"))\n",
    "        b = int(input(\"enter breadth= \"))\n",
    "        v = l * b * h\n",
    "        print (v)\n",
    "        \n",
    "obj = Call()\n",
    "h = int(input(\"enter height= \"))\n",
    "obj.volume()"
   ]
  },
  {
   "cell_type": "code",
   "execution_count": 44,
   "id": "97281a87",
   "metadata": {},
   "outputs": [
    {
     "name": "stdout",
     "output_type": "stream",
     "text": [
      "enter length= 2\n",
      "enter breadth= 2\n",
      "enter height= 2\n",
      "8\n"
     ]
    }
   ],
   "source": [
    "class Cal():\n",
    "    def __init__(self):\n",
    "        self.l = int(input(\"enter length= \"))\n",
    "        self.b = int(input(\"enter breadth= \"))\n",
    "        self.h = int(input(\"enter height= \"))\n",
    "        \n",
    "        \n",
    "    def volume(self):\n",
    "        v = self.l*self.b*self.h\n",
    "        print(v)\n",
    "        \n",
    "obj=Cal()\n",
    "obj.volume()"
   ]
  },
  {
   "cell_type": "code",
   "execution_count": 47,
   "id": "3f18a371",
   "metadata": {},
   "outputs": [
    {
     "name": "stdout",
     "output_type": "stream",
     "text": [
      "enter name= Ram\n",
      "enter age= 23\n",
      "enter address= Tinkune\n",
      "Ram Tinkune\n",
      "Hello World I am Ram. I am 23 years old. I am from Tinkune.\n"
     ]
    }
   ],
   "source": [
    "class Info():\n",
    "    def __init__(s):\n",
    "        \n",
    "        s.name= input(\"enter name= \")\n",
    "        s.age= int(input(\"enter age= \"))\n",
    "        s.add= input(\"enter address= \")\n",
    "    \n",
    "    def data(s):\n",
    "        print(s.name,s.add)\n",
    "        \n",
    "    def info(s):\n",
    "        print(f\"Hello World I am {s.name}. I am {s.age} years old. I am from {s.add}.\")\n",
    "        \n",
    "        \n",
    "obj = Info()\n",
    "obj.data()\n",
    "obj.info()\n",
    "        \n",
    "    \n",
    "    "
   ]
  },
  {
   "cell_type": "code",
   "execution_count": 51,
   "id": "d63458b4",
   "metadata": {},
   "outputs": [
    {
     "name": "stdout",
     "output_type": "stream",
     "text": [
      "enter name= Ram\n",
      "enter age= 23\n",
      "enter address= Pokhara\n",
      "Ram Pokhara\n",
      "Hello World I am Ram. I am 23 years old. I am from Pokhara.\n"
     ]
    }
   ],
   "source": [
    "class Info():\n",
    "    def __init__(self,name,age,add):\n",
    "        self.n = name\n",
    "        self.a = age\n",
    "        self.ad = add\n",
    "        \n",
    "        \n",
    "    def data (self):\n",
    "        print(self.n,self.ad)\n",
    "        \n",
    "        \n",
    "    def info(self):\n",
    "        print(f\"Hello World I am {self.n}. I am {self.a} years old. I am from {self.ad}.\")\n",
    "        \n",
    "name= input(\"enter name= \")\n",
    "age= int(input(\"enter age= \"))\n",
    "add= input(\"enter address= \")\n",
    "\n",
    "\n",
    "obj = Info(name,age,add)\n",
    "obj.data()\n",
    "obj.info()\n",
    "\n",
    "    "
   ]
  },
  {
   "cell_type": "code",
   "execution_count": null,
   "id": "d535b70f",
   "metadata": {},
   "outputs": [],
   "source": []
  }
 ],
 "metadata": {
  "kernelspec": {
   "display_name": "Python 3 (ipykernel)",
   "language": "python",
   "name": "python3"
  },
  "language_info": {
   "codemirror_mode": {
    "name": "ipython",
    "version": 3
   },
   "file_extension": ".py",
   "mimetype": "text/x-python",
   "name": "python",
   "nbconvert_exporter": "python",
   "pygments_lexer": "ipython3",
   "version": "3.11.5"
  }
 },
 "nbformat": 4,
 "nbformat_minor": 5
}
